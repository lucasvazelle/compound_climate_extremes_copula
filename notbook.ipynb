{
 "cells": [
  {
   "cell_type": "code",
   "execution_count": 48,
   "metadata": {},
   "outputs": [],
   "source": [
    "import pandas as pd\n",
    "import netCDF4 \n",
    "import os\n",
    "import numpy as np\n",
    "import xarray as xr\n",
    "import matplotlib.pyplot as plt\n",
    "import seaborn as sns\n",
    "import os\n",
    "import matplotlib.pyplot as plt\n",
    "from copulas.multivariate import GaussianMultivariate\n",
    "from copulas.visualization import compare_3d\n",
    "from copulas.visualization import scatter_3d\n",
    "from sklearn.preprocessing import MinMaxScaler\n",
    "from copulas.univariate import GaussianUnivariate\n",
    "\n"
   ]
  },
  {
   "cell_type": "markdown",
   "metadata": {},
   "source": [
    "# Import data"
   ]
  },
  {
   "cell_type": "code",
   "execution_count": null,
   "metadata": {},
   "outputs": [],
   "source": [
    "import cdsapi\n",
    "\n",
    "dataset = \"\"\n",
    "request = {\n",
    "    \"variable\": [\n",
    "      \n",
    "    ],\n",
    "    \"experiment\": \"ERA5 reanalysis\",\n",
    "    \"year\": []\n",
    "}\n",
    "client = cdsapi.Client()\n",
    "client.retrieve(dataset, request).download()\n"
   ]
  },
  {
   "cell_type": "markdown",
   "metadata": {},
   "source": [
    "# Explore"
   ]
  },
  {
   "cell_type": "code",
   "execution_count": 3,
   "metadata": {},
   "outputs": [],
   "source": [
    "data_folder = \"data\"\n",
    "netcdf_files = [os.path.join(data_folder, f) for f in os.listdir(data_folder) if f.endswith(\".nc\")]"
   ]
  },
  {
   "cell_type": "code",
   "execution_count": 4,
   "metadata": {},
   "outputs": [
    {
     "data": {
      "text/plain": [
       "['data\\\\07_warmest_three_day_period-reanalysis-yearly-grid-1940-2023-v1.0.nc',\n",
       " 'data\\\\09_heat_waves_climatological-reanalysis-yearly-grid-1940-2023-v1.0.nc',\n",
       " 'data\\\\11_frost_days-reanalysis-yearly-grid-1940-2023-v1.0.nc',\n",
       " 'data\\\\13_maximum_five_days_precipitation-reanalysis-yearly-grid-1940-2023-v1.0.nc',\n",
       " 'data\\\\14_extreme_precipitation_total-reanalysis-yearly-grid-1940-2023-v1.0.nc',\n",
       " 'data\\\\15_frequency_of_extreme_precipitation-reanalysis-yearly-grid-1940-2023-v1.0.nc',\n",
       " 'data\\\\19_duration_of_meteorological_droughts-reanalysis-yearly-grid-1940-2023-v1.0.nc',\n",
       " 'data\\\\22_days_with_high_fire_danger-reanalysis-yearly-grid-1979-2021-v1.0.nc',\n",
       " 'data\\\\24_extreme_wind_speed_days-reanalysis-yearly-grid-1940-2023-v1.0.nc']"
      ]
     },
     "execution_count": 4,
     "metadata": {},
     "output_type": "execute_result"
    }
   ],
   "source": [
    "netcdf_files"
   ]
  },
  {
   "cell_type": "code",
   "execution_count": 11,
   "metadata": {},
   "outputs": [],
   "source": [
    "import xarray as xr\n",
    "dry= xr.open_dataset(\"data\\\\19_duration_of_meteorological_droughts-reanalysis-yearly-grid-1940-2023-v1.0.nc\")\n",
    "hot= xr.open_dataset(\"data\\\\07_warmest_three_day_period-reanalysis-yearly-grid-1940-2023-v1.0.nc\")\n",
    "wind= xr.open_dataset(\"data\\\\24_extreme_wind_speed_days-reanalysis-yearly-grid-1940-2023-v1.0.nc\")\n",
    "\n"
   ]
  },
  {
   "cell_type": "code",
   "execution_count": 16,
   "metadata": {},
   "outputs": [
    {
     "data": {
      "text/html": [
       "<div><svg style=\"position: absolute; width: 0; height: 0; overflow: hidden\">\n",
       "<defs>\n",
       "<symbol id=\"icon-database\" viewBox=\"0 0 32 32\">\n",
       "<path d=\"M16 0c-8.837 0-16 2.239-16 5v4c0 2.761 7.163 5 16 5s16-2.239 16-5v-4c0-2.761-7.163-5-16-5z\"></path>\n",
       "<path d=\"M16 17c-8.837 0-16-2.239-16-5v6c0 2.761 7.163 5 16 5s16-2.239 16-5v-6c0 2.761-7.163 5-16 5z\"></path>\n",
       "<path d=\"M16 26c-8.837 0-16-2.239-16-5v6c0 2.761 7.163 5 16 5s16-2.239 16-5v-6c0 2.761-7.163 5-16 5z\"></path>\n",
       "</symbol>\n",
       "<symbol id=\"icon-file-text2\" viewBox=\"0 0 32 32\">\n",
       "<path d=\"M28.681 7.159c-0.694-0.947-1.662-2.053-2.724-3.116s-2.169-2.030-3.116-2.724c-1.612-1.182-2.393-1.319-2.841-1.319h-15.5c-1.378 0-2.5 1.121-2.5 2.5v27c0 1.378 1.122 2.5 2.5 2.5h23c1.378 0 2.5-1.122 2.5-2.5v-19.5c0-0.448-0.137-1.23-1.319-2.841zM24.543 5.457c0.959 0.959 1.712 1.825 2.268 2.543h-4.811v-4.811c0.718 0.556 1.584 1.309 2.543 2.268zM28 29.5c0 0.271-0.229 0.5-0.5 0.5h-23c-0.271 0-0.5-0.229-0.5-0.5v-27c0-0.271 0.229-0.5 0.5-0.5 0 0 15.499-0 15.5 0v7c0 0.552 0.448 1 1 1h7v19.5z\"></path>\n",
       "<path d=\"M23 26h-14c-0.552 0-1-0.448-1-1s0.448-1 1-1h14c0.552 0 1 0.448 1 1s-0.448 1-1 1z\"></path>\n",
       "<path d=\"M23 22h-14c-0.552 0-1-0.448-1-1s0.448-1 1-1h14c0.552 0 1 0.448 1 1s-0.448 1-1 1z\"></path>\n",
       "<path d=\"M23 18h-14c-0.552 0-1-0.448-1-1s0.448-1 1-1h14c0.552 0 1 0.448 1 1s-0.448 1-1 1z\"></path>\n",
       "</symbol>\n",
       "</defs>\n",
       "</svg>\n",
       "<style>/* CSS stylesheet for displaying xarray objects in jupyterlab.\n",
       " *\n",
       " */\n",
       "\n",
       ":root {\n",
       "  --xr-font-color0: var(--jp-content-font-color0, rgba(0, 0, 0, 1));\n",
       "  --xr-font-color2: var(--jp-content-font-color2, rgba(0, 0, 0, 0.54));\n",
       "  --xr-font-color3: var(--jp-content-font-color3, rgba(0, 0, 0, 0.38));\n",
       "  --xr-border-color: var(--jp-border-color2, #e0e0e0);\n",
       "  --xr-disabled-color: var(--jp-layout-color3, #bdbdbd);\n",
       "  --xr-background-color: var(--jp-layout-color0, white);\n",
       "  --xr-background-color-row-even: var(--jp-layout-color1, white);\n",
       "  --xr-background-color-row-odd: var(--jp-layout-color2, #eeeeee);\n",
       "}\n",
       "\n",
       "html[theme=\"dark\"],\n",
       "html[data-theme=\"dark\"],\n",
       "body[data-theme=\"dark\"],\n",
       "body.vscode-dark {\n",
       "  --xr-font-color0: rgba(255, 255, 255, 1);\n",
       "  --xr-font-color2: rgba(255, 255, 255, 0.54);\n",
       "  --xr-font-color3: rgba(255, 255, 255, 0.38);\n",
       "  --xr-border-color: #1f1f1f;\n",
       "  --xr-disabled-color: #515151;\n",
       "  --xr-background-color: #111111;\n",
       "  --xr-background-color-row-even: #111111;\n",
       "  --xr-background-color-row-odd: #313131;\n",
       "}\n",
       "\n",
       ".xr-wrap {\n",
       "  display: block !important;\n",
       "  min-width: 300px;\n",
       "  max-width: 700px;\n",
       "}\n",
       "\n",
       ".xr-text-repr-fallback {\n",
       "  /* fallback to plain text repr when CSS is not injected (untrusted notebook) */\n",
       "  display: none;\n",
       "}\n",
       "\n",
       ".xr-header {\n",
       "  padding-top: 6px;\n",
       "  padding-bottom: 6px;\n",
       "  margin-bottom: 4px;\n",
       "  border-bottom: solid 1px var(--xr-border-color);\n",
       "}\n",
       "\n",
       ".xr-header > div,\n",
       ".xr-header > ul {\n",
       "  display: inline;\n",
       "  margin-top: 0;\n",
       "  margin-bottom: 0;\n",
       "}\n",
       "\n",
       ".xr-obj-type,\n",
       ".xr-array-name {\n",
       "  margin-left: 2px;\n",
       "  margin-right: 10px;\n",
       "}\n",
       "\n",
       ".xr-obj-type {\n",
       "  color: var(--xr-font-color2);\n",
       "}\n",
       "\n",
       ".xr-sections {\n",
       "  padding-left: 0 !important;\n",
       "  display: grid;\n",
       "  grid-template-columns: 150px auto auto 1fr 0 20px 0 20px;\n",
       "}\n",
       "\n",
       ".xr-section-item {\n",
       "  display: contents;\n",
       "}\n",
       "\n",
       ".xr-section-item input {\n",
       "  display: inline-block;\n",
       "  opacity: 0;\n",
       "  height: 0;\n",
       "}\n",
       "\n",
       ".xr-section-item input + label {\n",
       "  color: var(--xr-disabled-color);\n",
       "}\n",
       "\n",
       ".xr-section-item input:enabled + label {\n",
       "  cursor: pointer;\n",
       "  color: var(--xr-font-color2);\n",
       "}\n",
       "\n",
       ".xr-section-item input:focus + label {\n",
       "  border: 2px solid var(--xr-font-color0);\n",
       "}\n",
       "\n",
       ".xr-section-item input:enabled + label:hover {\n",
       "  color: var(--xr-font-color0);\n",
       "}\n",
       "\n",
       ".xr-section-summary {\n",
       "  grid-column: 1;\n",
       "  color: var(--xr-font-color2);\n",
       "  font-weight: 500;\n",
       "}\n",
       "\n",
       ".xr-section-summary > span {\n",
       "  display: inline-block;\n",
       "  padding-left: 0.5em;\n",
       "}\n",
       "\n",
       ".xr-section-summary-in:disabled + label {\n",
       "  color: var(--xr-font-color2);\n",
       "}\n",
       "\n",
       ".xr-section-summary-in + label:before {\n",
       "  display: inline-block;\n",
       "  content: \"►\";\n",
       "  font-size: 11px;\n",
       "  width: 15px;\n",
       "  text-align: center;\n",
       "}\n",
       "\n",
       ".xr-section-summary-in:disabled + label:before {\n",
       "  color: var(--xr-disabled-color);\n",
       "}\n",
       "\n",
       ".xr-section-summary-in:checked + label:before {\n",
       "  content: \"▼\";\n",
       "}\n",
       "\n",
       ".xr-section-summary-in:checked + label > span {\n",
       "  display: none;\n",
       "}\n",
       "\n",
       ".xr-section-summary,\n",
       ".xr-section-inline-details {\n",
       "  padding-top: 4px;\n",
       "  padding-bottom: 4px;\n",
       "}\n",
       "\n",
       ".xr-section-inline-details {\n",
       "  grid-column: 2 / -1;\n",
       "}\n",
       "\n",
       ".xr-section-details {\n",
       "  display: none;\n",
       "  grid-column: 1 / -1;\n",
       "  margin-bottom: 5px;\n",
       "}\n",
       "\n",
       ".xr-section-summary-in:checked ~ .xr-section-details {\n",
       "  display: contents;\n",
       "}\n",
       "\n",
       ".xr-array-wrap {\n",
       "  grid-column: 1 / -1;\n",
       "  display: grid;\n",
       "  grid-template-columns: 20px auto;\n",
       "}\n",
       "\n",
       ".xr-array-wrap > label {\n",
       "  grid-column: 1;\n",
       "  vertical-align: top;\n",
       "}\n",
       "\n",
       ".xr-preview {\n",
       "  color: var(--xr-font-color3);\n",
       "}\n",
       "\n",
       ".xr-array-preview,\n",
       ".xr-array-data {\n",
       "  padding: 0 5px !important;\n",
       "  grid-column: 2;\n",
       "}\n",
       "\n",
       ".xr-array-data,\n",
       ".xr-array-in:checked ~ .xr-array-preview {\n",
       "  display: none;\n",
       "}\n",
       "\n",
       ".xr-array-in:checked ~ .xr-array-data,\n",
       ".xr-array-preview {\n",
       "  display: inline-block;\n",
       "}\n",
       "\n",
       ".xr-dim-list {\n",
       "  display: inline-block !important;\n",
       "  list-style: none;\n",
       "  padding: 0 !important;\n",
       "  margin: 0;\n",
       "}\n",
       "\n",
       ".xr-dim-list li {\n",
       "  display: inline-block;\n",
       "  padding: 0;\n",
       "  margin: 0;\n",
       "}\n",
       "\n",
       ".xr-dim-list:before {\n",
       "  content: \"(\";\n",
       "}\n",
       "\n",
       ".xr-dim-list:after {\n",
       "  content: \")\";\n",
       "}\n",
       "\n",
       ".xr-dim-list li:not(:last-child):after {\n",
       "  content: \",\";\n",
       "  padding-right: 5px;\n",
       "}\n",
       "\n",
       ".xr-has-index {\n",
       "  font-weight: bold;\n",
       "}\n",
       "\n",
       ".xr-var-list,\n",
       ".xr-var-item {\n",
       "  display: contents;\n",
       "}\n",
       "\n",
       ".xr-var-item > div,\n",
       ".xr-var-item label,\n",
       ".xr-var-item > .xr-var-name span {\n",
       "  background-color: var(--xr-background-color-row-even);\n",
       "  margin-bottom: 0;\n",
       "}\n",
       "\n",
       ".xr-var-item > .xr-var-name:hover span {\n",
       "  padding-right: 5px;\n",
       "}\n",
       "\n",
       ".xr-var-list > li:nth-child(odd) > div,\n",
       ".xr-var-list > li:nth-child(odd) > label,\n",
       ".xr-var-list > li:nth-child(odd) > .xr-var-name span {\n",
       "  background-color: var(--xr-background-color-row-odd);\n",
       "}\n",
       "\n",
       ".xr-var-name {\n",
       "  grid-column: 1;\n",
       "}\n",
       "\n",
       ".xr-var-dims {\n",
       "  grid-column: 2;\n",
       "}\n",
       "\n",
       ".xr-var-dtype {\n",
       "  grid-column: 3;\n",
       "  text-align: right;\n",
       "  color: var(--xr-font-color2);\n",
       "}\n",
       "\n",
       ".xr-var-preview {\n",
       "  grid-column: 4;\n",
       "}\n",
       "\n",
       ".xr-index-preview {\n",
       "  grid-column: 2 / 5;\n",
       "  color: var(--xr-font-color2);\n",
       "}\n",
       "\n",
       ".xr-var-name,\n",
       ".xr-var-dims,\n",
       ".xr-var-dtype,\n",
       ".xr-preview,\n",
       ".xr-attrs dt {\n",
       "  white-space: nowrap;\n",
       "  overflow: hidden;\n",
       "  text-overflow: ellipsis;\n",
       "  padding-right: 10px;\n",
       "}\n",
       "\n",
       ".xr-var-name:hover,\n",
       ".xr-var-dims:hover,\n",
       ".xr-var-dtype:hover,\n",
       ".xr-attrs dt:hover {\n",
       "  overflow: visible;\n",
       "  width: auto;\n",
       "  z-index: 1;\n",
       "}\n",
       "\n",
       ".xr-var-attrs,\n",
       ".xr-var-data,\n",
       ".xr-index-data {\n",
       "  display: none;\n",
       "  background-color: var(--xr-background-color) !important;\n",
       "  padding-bottom: 5px !important;\n",
       "}\n",
       "\n",
       ".xr-var-attrs-in:checked ~ .xr-var-attrs,\n",
       ".xr-var-data-in:checked ~ .xr-var-data,\n",
       ".xr-index-data-in:checked ~ .xr-index-data {\n",
       "  display: block;\n",
       "}\n",
       "\n",
       ".xr-var-data > table {\n",
       "  float: right;\n",
       "}\n",
       "\n",
       ".xr-var-name span,\n",
       ".xr-var-data,\n",
       ".xr-index-name div,\n",
       ".xr-index-data,\n",
       ".xr-attrs {\n",
       "  padding-left: 25px !important;\n",
       "}\n",
       "\n",
       ".xr-attrs,\n",
       ".xr-var-attrs,\n",
       ".xr-var-data,\n",
       ".xr-index-data {\n",
       "  grid-column: 1 / -1;\n",
       "}\n",
       "\n",
       "dl.xr-attrs {\n",
       "  padding: 0;\n",
       "  margin: 0;\n",
       "  display: grid;\n",
       "  grid-template-columns: 125px auto;\n",
       "}\n",
       "\n",
       ".xr-attrs dt,\n",
       ".xr-attrs dd {\n",
       "  padding: 0;\n",
       "  margin: 0;\n",
       "  float: left;\n",
       "  padding-right: 10px;\n",
       "  width: auto;\n",
       "}\n",
       "\n",
       ".xr-attrs dt {\n",
       "  font-weight: normal;\n",
       "  grid-column: 1;\n",
       "}\n",
       "\n",
       ".xr-attrs dt:hover span {\n",
       "  display: inline-block;\n",
       "  background: var(--xr-background-color);\n",
       "  padding-right: 10px;\n",
       "}\n",
       "\n",
       ".xr-attrs dd {\n",
       "  grid-column: 2;\n",
       "  white-space: pre-wrap;\n",
       "  word-break: break-all;\n",
       "}\n",
       "\n",
       ".xr-icon-database,\n",
       ".xr-icon-file-text2,\n",
       ".xr-no-icon {\n",
       "  display: inline-block;\n",
       "  vertical-align: middle;\n",
       "  width: 1em;\n",
       "  height: 1.5em !important;\n",
       "  stroke-width: 0;\n",
       "  stroke: currentColor;\n",
       "  fill: currentColor;\n",
       "}\n",
       "</style><pre class='xr-text-repr-fallback'>&lt;xarray.Dataset&gt; Size: 17MB\n",
       "Dimensions:      (time: 84, lat: 185, lon: 271)\n",
       "Coordinates:\n",
       "  * time         (time) datetime64[ns] 672B 1940-01-01 1941-01-01 ... 2023-01-01\n",
       "    realization  int64 8B ...\n",
       "  * lat          (lat) float64 1kB 26.5 26.75 27.0 27.25 ... 72.0 72.25 72.5\n",
       "  * lon          (lon) float64 2kB -22.0 -21.75 -21.5 -21.25 ... 45.0 45.25 45.5\n",
       "Data variables:\n",
       "    t2m          (time, lat, lon) float32 17MB ...</pre><div class='xr-wrap' style='display:none'><div class='xr-header'><div class='xr-obj-type'>xarray.Dataset</div></div><ul class='xr-sections'><li class='xr-section-item'><input id='section-aba4f55d-289c-479e-b201-a3a83bb97455' class='xr-section-summary-in' type='checkbox' disabled ><label for='section-aba4f55d-289c-479e-b201-a3a83bb97455' class='xr-section-summary'  title='Expand/collapse section'>Dimensions:</label><div class='xr-section-inline-details'><ul class='xr-dim-list'><li><span class='xr-has-index'>time</span>: 84</li><li><span class='xr-has-index'>lat</span>: 185</li><li><span class='xr-has-index'>lon</span>: 271</li></ul></div><div class='xr-section-details'></div></li><li class='xr-section-item'><input id='section-d207d852-540c-41e8-a563-59c9ec2ef8fd' class='xr-section-summary-in' type='checkbox'  checked><label for='section-d207d852-540c-41e8-a563-59c9ec2ef8fd' class='xr-section-summary' >Coordinates: <span>(4)</span></label><div class='xr-section-inline-details'></div><div class='xr-section-details'><ul class='xr-var-list'><li class='xr-var-item'><div class='xr-var-name'><span class='xr-has-index'>time</span></div><div class='xr-var-dims'>(time)</div><div class='xr-var-dtype'>datetime64[ns]</div><div class='xr-var-preview xr-preview'>1940-01-01 ... 2023-01-01</div><input id='attrs-a3867458-4b85-4d44-a922-50cb40490d63' class='xr-var-attrs-in' type='checkbox' ><label for='attrs-a3867458-4b85-4d44-a922-50cb40490d63' title='Show/Hide attributes'><svg class='icon xr-icon-file-text2'><use xlink:href='#icon-file-text2'></use></svg></label><input id='data-5b2e9b81-8d5a-4fdf-9bbb-d5169f40a998' class='xr-var-data-in' type='checkbox'><label for='data-5b2e9b81-8d5a-4fdf-9bbb-d5169f40a998' title='Show/Hide data repr'><svg class='icon xr-icon-database'><use xlink:href='#icon-database'></use></svg></label><div class='xr-var-attrs'><dl class='xr-attrs'><dt><span>long_name :</span></dt><dd>time</dd><dt><span>standard_name :</span></dt><dd>time</dd><dt><span>axis :</span></dt><dd>T</dd><dt><span>stored_direction :</span></dt><dd>increasing</dd><dt><span>type :</span></dt><dd>double</dd></dl></div><div class='xr-var-data'><pre>array([&#x27;1940-01-01T00:00:00.000000000&#x27;, &#x27;1941-01-01T00:00:00.000000000&#x27;,\n",
       "       &#x27;1942-01-01T00:00:00.000000000&#x27;, &#x27;1943-01-01T00:00:00.000000000&#x27;,\n",
       "       &#x27;1944-01-01T00:00:00.000000000&#x27;, &#x27;1945-01-01T00:00:00.000000000&#x27;,\n",
       "       &#x27;1946-01-01T00:00:00.000000000&#x27;, &#x27;1947-01-01T00:00:00.000000000&#x27;,\n",
       "       &#x27;1948-01-01T00:00:00.000000000&#x27;, &#x27;1949-01-01T00:00:00.000000000&#x27;,\n",
       "       &#x27;1950-01-01T00:00:00.000000000&#x27;, &#x27;1951-01-01T00:00:00.000000000&#x27;,\n",
       "       &#x27;1952-01-01T00:00:00.000000000&#x27;, &#x27;1953-01-01T00:00:00.000000000&#x27;,\n",
       "       &#x27;1954-01-01T00:00:00.000000000&#x27;, &#x27;1955-01-01T00:00:00.000000000&#x27;,\n",
       "       &#x27;1956-01-01T00:00:00.000000000&#x27;, &#x27;1957-01-01T00:00:00.000000000&#x27;,\n",
       "       &#x27;1958-01-01T00:00:00.000000000&#x27;, &#x27;1959-01-01T00:00:00.000000000&#x27;,\n",
       "       &#x27;1960-01-01T00:00:00.000000000&#x27;, &#x27;1961-01-01T00:00:00.000000000&#x27;,\n",
       "       &#x27;1962-01-01T00:00:00.000000000&#x27;, &#x27;1963-01-01T00:00:00.000000000&#x27;,\n",
       "       &#x27;1964-01-01T00:00:00.000000000&#x27;, &#x27;1965-01-01T00:00:00.000000000&#x27;,\n",
       "       &#x27;1966-01-01T00:00:00.000000000&#x27;, &#x27;1967-01-01T00:00:00.000000000&#x27;,\n",
       "       &#x27;1968-01-01T00:00:00.000000000&#x27;, &#x27;1969-01-01T00:00:00.000000000&#x27;,\n",
       "       &#x27;1970-01-01T00:00:00.000000000&#x27;, &#x27;1971-01-01T00:00:00.000000000&#x27;,\n",
       "       &#x27;1972-01-01T00:00:00.000000000&#x27;, &#x27;1973-01-01T00:00:00.000000000&#x27;,\n",
       "       &#x27;1974-01-01T00:00:00.000000000&#x27;, &#x27;1975-01-01T00:00:00.000000000&#x27;,\n",
       "       &#x27;1976-01-01T00:00:00.000000000&#x27;, &#x27;1977-01-01T00:00:00.000000000&#x27;,\n",
       "       &#x27;1978-01-01T00:00:00.000000000&#x27;, &#x27;1979-01-01T00:00:00.000000000&#x27;,\n",
       "       &#x27;1980-01-01T00:00:00.000000000&#x27;, &#x27;1981-01-01T00:00:00.000000000&#x27;,\n",
       "       &#x27;1982-01-01T00:00:00.000000000&#x27;, &#x27;1983-01-01T00:00:00.000000000&#x27;,\n",
       "       &#x27;1984-01-01T00:00:00.000000000&#x27;, &#x27;1985-01-01T00:00:00.000000000&#x27;,\n",
       "       &#x27;1986-01-01T00:00:00.000000000&#x27;, &#x27;1987-01-01T00:00:00.000000000&#x27;,\n",
       "       &#x27;1988-01-01T00:00:00.000000000&#x27;, &#x27;1989-01-01T00:00:00.000000000&#x27;,\n",
       "       &#x27;1990-01-01T00:00:00.000000000&#x27;, &#x27;1991-01-01T00:00:00.000000000&#x27;,\n",
       "       &#x27;1992-01-01T00:00:00.000000000&#x27;, &#x27;1993-01-01T00:00:00.000000000&#x27;,\n",
       "       &#x27;1994-01-01T00:00:00.000000000&#x27;, &#x27;1995-01-01T00:00:00.000000000&#x27;,\n",
       "       &#x27;1996-01-01T00:00:00.000000000&#x27;, &#x27;1997-01-01T00:00:00.000000000&#x27;,\n",
       "       &#x27;1998-01-01T00:00:00.000000000&#x27;, &#x27;1999-01-01T00:00:00.000000000&#x27;,\n",
       "       &#x27;2000-01-01T00:00:00.000000000&#x27;, &#x27;2001-01-01T00:00:00.000000000&#x27;,\n",
       "       &#x27;2002-01-01T00:00:00.000000000&#x27;, &#x27;2003-01-01T00:00:00.000000000&#x27;,\n",
       "       &#x27;2004-01-01T00:00:00.000000000&#x27;, &#x27;2005-01-01T00:00:00.000000000&#x27;,\n",
       "       &#x27;2006-01-01T00:00:00.000000000&#x27;, &#x27;2007-01-01T00:00:00.000000000&#x27;,\n",
       "       &#x27;2008-01-01T00:00:00.000000000&#x27;, &#x27;2009-01-01T00:00:00.000000000&#x27;,\n",
       "       &#x27;2010-01-01T00:00:00.000000000&#x27;, &#x27;2011-01-01T00:00:00.000000000&#x27;,\n",
       "       &#x27;2012-01-01T00:00:00.000000000&#x27;, &#x27;2013-01-01T00:00:00.000000000&#x27;,\n",
       "       &#x27;2014-01-01T00:00:00.000000000&#x27;, &#x27;2015-01-01T00:00:00.000000000&#x27;,\n",
       "       &#x27;2016-01-01T00:00:00.000000000&#x27;, &#x27;2017-01-01T00:00:00.000000000&#x27;,\n",
       "       &#x27;2018-01-01T00:00:00.000000000&#x27;, &#x27;2019-01-01T00:00:00.000000000&#x27;,\n",
       "       &#x27;2020-01-01T00:00:00.000000000&#x27;, &#x27;2021-01-01T00:00:00.000000000&#x27;,\n",
       "       &#x27;2022-01-01T00:00:00.000000000&#x27;, &#x27;2023-01-01T00:00:00.000000000&#x27;],\n",
       "      dtype=&#x27;datetime64[ns]&#x27;)</pre></div></li><li class='xr-var-item'><div class='xr-var-name'><span>realization</span></div><div class='xr-var-dims'>()</div><div class='xr-var-dtype'>int64</div><div class='xr-var-preview xr-preview'>...</div><input id='attrs-cb09fab0-d534-4c28-a186-85187b5f0e02' class='xr-var-attrs-in' type='checkbox' ><label for='attrs-cb09fab0-d534-4c28-a186-85187b5f0e02' title='Show/Hide attributes'><svg class='icon xr-icon-file-text2'><use xlink:href='#icon-file-text2'></use></svg></label><input id='data-db41e68d-7421-4284-a616-83606846356b' class='xr-var-data-in' type='checkbox'><label for='data-db41e68d-7421-4284-a616-83606846356b' title='Show/Hide data repr'><svg class='icon xr-icon-database'><use xlink:href='#icon-database'></use></svg></label><div class='xr-var-attrs'><dl class='xr-attrs'><dt><span>long_name :</span></dt><dd>realization</dd><dt><span>units :</span></dt><dd>1</dd><dt><span>standard_name :</span></dt><dd>realization</dd><dt><span>stored_direction :</span></dt><dd>increasing</dd><dt><span>type :</span></dt><dd>integer</dd></dl></div><div class='xr-var-data'><pre>[1 values with dtype=int64]</pre></div></li><li class='xr-var-item'><div class='xr-var-name'><span class='xr-has-index'>lat</span></div><div class='xr-var-dims'>(lat)</div><div class='xr-var-dtype'>float64</div><div class='xr-var-preview xr-preview'>26.5 26.75 27.0 ... 72.0 72.25 72.5</div><input id='attrs-f87aec79-d6c6-4f61-8cbf-3830f876f23d' class='xr-var-attrs-in' type='checkbox' ><label for='attrs-f87aec79-d6c6-4f61-8cbf-3830f876f23d' title='Show/Hide attributes'><svg class='icon xr-icon-file-text2'><use xlink:href='#icon-file-text2'></use></svg></label><input id='data-7506d567-8246-4304-b722-8e6278590618' class='xr-var-data-in' type='checkbox'><label for='data-7506d567-8246-4304-b722-8e6278590618' title='Show/Hide data repr'><svg class='icon xr-icon-database'><use xlink:href='#icon-database'></use></svg></label><div class='xr-var-attrs'><dl class='xr-attrs'><dt><span>units :</span></dt><dd>degrees_north</dd><dt><span>standard_name :</span></dt><dd>latitude</dd><dt><span>long_name :</span></dt><dd>latitude</dd><dt><span>stored_direction :</span></dt><dd>decreasing</dd><dt><span>axis :</span></dt><dd>Y</dd><dt><span>positive :</span></dt><dd>up</dd><dt><span>type :</span></dt><dd>double</dd><dt><span>valid_max :</span></dt><dd>90.0</dd><dt><span>valid_min :</span></dt><dd>-90.0</dd></dl></div><div class='xr-var-data'><pre>array([26.5 , 26.75, 27.  , 27.25, 27.5 , 27.75, 28.  , 28.25, 28.5 , 28.75,\n",
       "       29.  , 29.25, 29.5 , 29.75, 30.  , 30.25, 30.5 , 30.75, 31.  , 31.25,\n",
       "       31.5 , 31.75, 32.  , 32.25, 32.5 , 32.75, 33.  , 33.25, 33.5 , 33.75,\n",
       "       34.  , 34.25, 34.5 , 34.75, 35.  , 35.25, 35.5 , 35.75, 36.  , 36.25,\n",
       "       36.5 , 36.75, 37.  , 37.25, 37.5 , 37.75, 38.  , 38.25, 38.5 , 38.75,\n",
       "       39.  , 39.25, 39.5 , 39.75, 40.  , 40.25, 40.5 , 40.75, 41.  , 41.25,\n",
       "       41.5 , 41.75, 42.  , 42.25, 42.5 , 42.75, 43.  , 43.25, 43.5 , 43.75,\n",
       "       44.  , 44.25, 44.5 , 44.75, 45.  , 45.25, 45.5 , 45.75, 46.  , 46.25,\n",
       "       46.5 , 46.75, 47.  , 47.25, 47.5 , 47.75, 48.  , 48.25, 48.5 , 48.75,\n",
       "       49.  , 49.25, 49.5 , 49.75, 50.  , 50.25, 50.5 , 50.75, 51.  , 51.25,\n",
       "       51.5 , 51.75, 52.  , 52.25, 52.5 , 52.75, 53.  , 53.25, 53.5 , 53.75,\n",
       "       54.  , 54.25, 54.5 , 54.75, 55.  , 55.25, 55.5 , 55.75, 56.  , 56.25,\n",
       "       56.5 , 56.75, 57.  , 57.25, 57.5 , 57.75, 58.  , 58.25, 58.5 , 58.75,\n",
       "       59.  , 59.25, 59.5 , 59.75, 60.  , 60.25, 60.5 , 60.75, 61.  , 61.25,\n",
       "       61.5 , 61.75, 62.  , 62.25, 62.5 , 62.75, 63.  , 63.25, 63.5 , 63.75,\n",
       "       64.  , 64.25, 64.5 , 64.75, 65.  , 65.25, 65.5 , 65.75, 66.  , 66.25,\n",
       "       66.5 , 66.75, 67.  , 67.25, 67.5 , 67.75, 68.  , 68.25, 68.5 , 68.75,\n",
       "       69.  , 69.25, 69.5 , 69.75, 70.  , 70.25, 70.5 , 70.75, 71.  , 71.25,\n",
       "       71.5 , 71.75, 72.  , 72.25, 72.5 ])</pre></div></li><li class='xr-var-item'><div class='xr-var-name'><span class='xr-has-index'>lon</span></div><div class='xr-var-dims'>(lon)</div><div class='xr-var-dtype'>float64</div><div class='xr-var-preview xr-preview'>-22.0 -21.75 -21.5 ... 45.25 45.5</div><input id='attrs-314910c6-c220-427f-a2fb-43fd2fce5b1e' class='xr-var-attrs-in' type='checkbox' ><label for='attrs-314910c6-c220-427f-a2fb-43fd2fce5b1e' title='Show/Hide attributes'><svg class='icon xr-icon-file-text2'><use xlink:href='#icon-file-text2'></use></svg></label><input id='data-b280045f-1878-40da-a6cc-5f4e8e5e9c4e' class='xr-var-data-in' type='checkbox'><label for='data-b280045f-1878-40da-a6cc-5f4e8e5e9c4e' title='Show/Hide data repr'><svg class='icon xr-icon-database'><use xlink:href='#icon-database'></use></svg></label><div class='xr-var-attrs'><dl class='xr-attrs'><dt><span>units :</span></dt><dd>degrees_east</dd><dt><span>standard_name :</span></dt><dd>longitude</dd><dt><span>long_name :</span></dt><dd>longitude</dd><dt><span>axis :</span></dt><dd>X</dd><dt><span>positive :</span></dt><dd>up</dd><dt><span>type :</span></dt><dd>double</dd><dt><span>valid_max :</span></dt><dd>360.0</dd><dt><span>valid_min :</span></dt><dd>-180.0</dd></dl></div><div class='xr-var-data'><pre>array([-22.  , -21.75, -21.5 , ...,  45.  ,  45.25,  45.5 ])</pre></div></li></ul></div></li><li class='xr-section-item'><input id='section-7f355979-27a7-4727-a6b8-e92c1b14ad57' class='xr-section-summary-in' type='checkbox'  checked><label for='section-7f355979-27a7-4727-a6b8-e92c1b14ad57' class='xr-section-summary' >Data variables: <span>(1)</span></label><div class='xr-section-inline-details'></div><div class='xr-section-details'><ul class='xr-var-list'><li class='xr-var-item'><div class='xr-var-name'><span>t2m</span></div><div class='xr-var-dims'>(time, lat, lon)</div><div class='xr-var-dtype'>float32</div><div class='xr-var-preview xr-preview'>...</div><input id='attrs-b9292ccb-c444-4641-976c-98c96ef47cea' class='xr-var-attrs-in' type='checkbox' ><label for='attrs-b9292ccb-c444-4641-976c-98c96ef47cea' title='Show/Hide attributes'><svg class='icon xr-icon-file-text2'><use xlink:href='#icon-file-text2'></use></svg></label><input id='data-9883e8f0-62b0-4416-994d-a168fb25a27d' class='xr-var-data-in' type='checkbox'><label for='data-9883e8f0-62b0-4416-994d-a168fb25a27d' title='Show/Hide data repr'><svg class='icon xr-icon-database'><use xlink:href='#icon-database'></use></svg></label><div class='xr-var-attrs'><dl class='xr-attrs'><dt><span>units :</span></dt><dd>K</dd><dt><span>comment :</span></dt><dd>derived from 3 hourly ERA5 reanalysis</dd></dl></div><div class='xr-var-data'><pre>[4211340 values with dtype=float32]</pre></div></li></ul></div></li><li class='xr-section-item'><input id='section-d7c75cd3-5706-4fc4-893d-d96faaf12fbf' class='xr-section-summary-in' type='checkbox'  ><label for='section-d7c75cd3-5706-4fc4-893d-d96faaf12fbf' class='xr-section-summary' >Indexes: <span>(3)</span></label><div class='xr-section-inline-details'></div><div class='xr-section-details'><ul class='xr-var-list'><li class='xr-var-item'><div class='xr-index-name'><div>time</div></div><div class='xr-index-preview'>PandasIndex</div><input type='checkbox' disabled/><label></label><input id='index-1eb07783-fb61-4d29-9349-b0a2c4ba571c' class='xr-index-data-in' type='checkbox'/><label for='index-1eb07783-fb61-4d29-9349-b0a2c4ba571c' title='Show/Hide index repr'><svg class='icon xr-icon-database'><use xlink:href='#icon-database'></use></svg></label><div class='xr-index-data'><pre>PandasIndex(DatetimeIndex([&#x27;1940-01-01&#x27;, &#x27;1941-01-01&#x27;, &#x27;1942-01-01&#x27;, &#x27;1943-01-01&#x27;,\n",
       "               &#x27;1944-01-01&#x27;, &#x27;1945-01-01&#x27;, &#x27;1946-01-01&#x27;, &#x27;1947-01-01&#x27;,\n",
       "               &#x27;1948-01-01&#x27;, &#x27;1949-01-01&#x27;, &#x27;1950-01-01&#x27;, &#x27;1951-01-01&#x27;,\n",
       "               &#x27;1952-01-01&#x27;, &#x27;1953-01-01&#x27;, &#x27;1954-01-01&#x27;, &#x27;1955-01-01&#x27;,\n",
       "               &#x27;1956-01-01&#x27;, &#x27;1957-01-01&#x27;, &#x27;1958-01-01&#x27;, &#x27;1959-01-01&#x27;,\n",
       "               &#x27;1960-01-01&#x27;, &#x27;1961-01-01&#x27;, &#x27;1962-01-01&#x27;, &#x27;1963-01-01&#x27;,\n",
       "               &#x27;1964-01-01&#x27;, &#x27;1965-01-01&#x27;, &#x27;1966-01-01&#x27;, &#x27;1967-01-01&#x27;,\n",
       "               &#x27;1968-01-01&#x27;, &#x27;1969-01-01&#x27;, &#x27;1970-01-01&#x27;, &#x27;1971-01-01&#x27;,\n",
       "               &#x27;1972-01-01&#x27;, &#x27;1973-01-01&#x27;, &#x27;1974-01-01&#x27;, &#x27;1975-01-01&#x27;,\n",
       "               &#x27;1976-01-01&#x27;, &#x27;1977-01-01&#x27;, &#x27;1978-01-01&#x27;, &#x27;1979-01-01&#x27;,\n",
       "               &#x27;1980-01-01&#x27;, &#x27;1981-01-01&#x27;, &#x27;1982-01-01&#x27;, &#x27;1983-01-01&#x27;,\n",
       "               &#x27;1984-01-01&#x27;, &#x27;1985-01-01&#x27;, &#x27;1986-01-01&#x27;, &#x27;1987-01-01&#x27;,\n",
       "               &#x27;1988-01-01&#x27;, &#x27;1989-01-01&#x27;, &#x27;1990-01-01&#x27;, &#x27;1991-01-01&#x27;,\n",
       "               &#x27;1992-01-01&#x27;, &#x27;1993-01-01&#x27;, &#x27;1994-01-01&#x27;, &#x27;1995-01-01&#x27;,\n",
       "               &#x27;1996-01-01&#x27;, &#x27;1997-01-01&#x27;, &#x27;1998-01-01&#x27;, &#x27;1999-01-01&#x27;,\n",
       "               &#x27;2000-01-01&#x27;, &#x27;2001-01-01&#x27;, &#x27;2002-01-01&#x27;, &#x27;2003-01-01&#x27;,\n",
       "               &#x27;2004-01-01&#x27;, &#x27;2005-01-01&#x27;, &#x27;2006-01-01&#x27;, &#x27;2007-01-01&#x27;,\n",
       "               &#x27;2008-01-01&#x27;, &#x27;2009-01-01&#x27;, &#x27;2010-01-01&#x27;, &#x27;2011-01-01&#x27;,\n",
       "               &#x27;2012-01-01&#x27;, &#x27;2013-01-01&#x27;, &#x27;2014-01-01&#x27;, &#x27;2015-01-01&#x27;,\n",
       "               &#x27;2016-01-01&#x27;, &#x27;2017-01-01&#x27;, &#x27;2018-01-01&#x27;, &#x27;2019-01-01&#x27;,\n",
       "               &#x27;2020-01-01&#x27;, &#x27;2021-01-01&#x27;, &#x27;2022-01-01&#x27;, &#x27;2023-01-01&#x27;],\n",
       "              dtype=&#x27;datetime64[ns]&#x27;, name=&#x27;time&#x27;, freq=None))</pre></div></li><li class='xr-var-item'><div class='xr-index-name'><div>lat</div></div><div class='xr-index-preview'>PandasIndex</div><input type='checkbox' disabled/><label></label><input id='index-27668f96-960e-4cdb-bb95-2f0675f68def' class='xr-index-data-in' type='checkbox'/><label for='index-27668f96-960e-4cdb-bb95-2f0675f68def' title='Show/Hide index repr'><svg class='icon xr-icon-database'><use xlink:href='#icon-database'></use></svg></label><div class='xr-index-data'><pre>PandasIndex(Index([ 26.5, 26.75,  27.0, 27.25,  27.5, 27.75,  28.0, 28.25,  28.5, 28.75,\n",
       "       ...\n",
       "       70.25,  70.5, 70.75,  71.0, 71.25,  71.5, 71.75,  72.0, 72.25,  72.5],\n",
       "      dtype=&#x27;float64&#x27;, name=&#x27;lat&#x27;, length=185))</pre></div></li><li class='xr-var-item'><div class='xr-index-name'><div>lon</div></div><div class='xr-index-preview'>PandasIndex</div><input type='checkbox' disabled/><label></label><input id='index-95f8af2d-923f-469e-8d26-96e5b000aa97' class='xr-index-data-in' type='checkbox'/><label for='index-95f8af2d-923f-469e-8d26-96e5b000aa97' title='Show/Hide index repr'><svg class='icon xr-icon-database'><use xlink:href='#icon-database'></use></svg></label><div class='xr-index-data'><pre>PandasIndex(Index([ -22.0, -21.75,  -21.5, -21.25,  -21.0, -20.75,  -20.5, -20.25,  -20.0,\n",
       "       -19.75,\n",
       "       ...\n",
       "        43.25,   43.5,  43.75,   44.0,  44.25,   44.5,  44.75,   45.0,  45.25,\n",
       "         45.5],\n",
       "      dtype=&#x27;float64&#x27;, name=&#x27;lon&#x27;, length=271))</pre></div></li></ul></div></li><li class='xr-section-item'><input id='section-fd74e017-8b01-46ba-9528-927637f0f42e' class='xr-section-summary-in' type='checkbox' disabled ><label for='section-fd74e017-8b01-46ba-9528-927637f0f42e' class='xr-section-summary'  title='Expand/collapse section'>Attributes: <span>(0)</span></label><div class='xr-section-inline-details'></div><div class='xr-section-details'><dl class='xr-attrs'></dl></div></li></ul></div></div>"
      ],
      "text/plain": [
       "<xarray.Dataset> Size: 17MB\n",
       "Dimensions:      (time: 84, lat: 185, lon: 271)\n",
       "Coordinates:\n",
       "  * time         (time) datetime64[ns] 672B 1940-01-01 1941-01-01 ... 2023-01-01\n",
       "    realization  int64 8B ...\n",
       "  * lat          (lat) float64 1kB 26.5 26.75 27.0 27.25 ... 72.0 72.25 72.5\n",
       "  * lon          (lon) float64 2kB -22.0 -21.75 -21.5 -21.25 ... 45.0 45.25 45.5\n",
       "Data variables:\n",
       "    t2m          (time, lat, lon) float32 17MB ..."
      ]
     },
     "execution_count": 16,
     "metadata": {},
     "output_type": "execute_result"
    }
   ],
   "source": [
    "hot"
   ]
  },
  {
   "cell_type": "markdown",
   "metadata": {},
   "source": [
    "# Copule multivarié"
   ]
  },
  {
   "cell_type": "code",
   "execution_count": 26,
   "metadata": {},
   "outputs": [],
   "source": [
    "lat_sel = 43\n",
    "lon_sel = 0\n",
    "\n",
    "dry_data = dry['dmd']\n",
    "hot_data = hot['t2m']\n",
    "wind_data = wind['data']\n",
    "\n",
    "# Fusionner les datasets sur les dimensions communes (time, lat, lon)\n",
    "combined = xr.merge([dry_data.rename('dry'), \n",
    "                     hot_data.rename('hot'), \n",
    "                     wind_data.rename('wind')])\n",
    "\n",
    "# Extraire les données pour cette localisation (utilise l'indexation la plus proche)\n",
    "location_data = combined.sel(lat=lat_sel, lon=lon_sel, method=\"nearest\")\n",
    "\n",
    "# Convertir en DataFrame avec les années comme index\n",
    "df = location_data.to_dataframe().reset_index()\n",
    "\n",
    "# Garde uniquement les colonnes qui nous intéressent\n",
    "df = df[['time', 'dry', 'hot', 'wind']]\n",
    "\n",
    "# Optionnel : convertir 'time' en année si tu préfères\n",
    "df['year'] = df['time'].dt.year\n",
    "df = df.drop(columns='time')\n",
    "\n",
    "# Réorganiser les colonnes\n",
    "df = df[['year', 'dry', 'hot', 'wind']]\n"
   ]
  },
  {
   "cell_type": "code",
   "execution_count": null,
   "metadata": {},
   "outputs": [],
   "source": [
    "\n",
    "copula = GaussianMultivariate()\n",
    "copula.fit(df.iloc[:,1:])\n",
    "\n",
    "synthetic_data = copula.sample(len(df.iloc[:,1:]))"
   ]
  },
  {
   "cell_type": "code",
   "execution_count": null,
   "metadata": {},
   "outputs": [
    {
     "data": {
      "text/plain": [
       "dict_keys(['correlation', 'univariates', 'columns', 'type'])"
      ]
     },
     "metadata": {},
     "output_type": "display_data"
    }
   ],
   "source": [
    "copula_params = copula.to_dict()\n",
    "copula_params.keys()"
   ]
  },
  {
   "cell_type": "code",
   "execution_count": null,
   "metadata": {},
   "outputs": [
    {
     "data": {
      "text/plain": [
       "[[1.0, -0.00788409154233118, -0.05064920141478881],\n",
       " [-0.00788409154233118, 1.0, 0.26501881850839215],\n",
       " [-0.05064920141478881, 0.26501881850839215, 1.0]]"
      ]
     },
     "metadata": {},
     "output_type": "display_data"
    }
   ],
   "source": [
    "copula_params['correlation']"
   ]
  },
  {
   "cell_type": "code",
   "execution_count": null,
   "metadata": {},
   "outputs": [
    {
     "data": {
      "text/plain": [
       "'copulas.multivariate.gaussian.GaussianMultivariate'"
      ]
     },
     "metadata": {},
     "output_type": "display_data"
    }
   ],
   "source": [
    "copula_params['type']"
   ]
  },
  {
   "cell_type": "code",
   "execution_count": 52,
   "metadata": {},
   "outputs": [
    {
     "data": {
      "application/vnd.plotly.v1+json": {
       "config": {
        "plotlyServerURL": "https://plot.ly"
       },
       "data": [
        {
         "hovertemplate": "Data=Real<br>dry=%{x}<br>hot=%{y}<br>wind=%{z}<extra></extra>",
         "legendgroup": "Real",
         "marker": {
          "color": "#000036",
          "size": 5,
          "symbol": "circle"
         },
         "mode": "markers",
         "name": "Real",
         "scene": "scene",
         "showlegend": true,
         "type": "scatter3d",
         "x": [
          0,
          5,
          7,
          4,
          7,
          3,
          0,
          0,
          2,
          8,
          3,
          0,
          6,
          9,
          2,
          2,
          0,
          8,
          2,
          0,
          3,
          0,
          6,
          4,
          3,
          3,
          0,
          3,
          0,
          0,
          1,
          1,
          0,
          2,
          0,
          0,
          5,
          0,
          3,
          0,
          0,
          0,
          0,
          0,
          0,
          3,
          1,
          0,
          3,
          8,
          5,
          0,
          3,
          3,
          2,
          3,
          2,
          2,
          1,
          0,
          0,
          0,
          3,
          0,
          6,
          3,
          0,
          3,
          2,
          0,
          0,
          3,
          3,
          0,
          0,
          2,
          1,
          0,
          0,
          3,
          0,
          2,
          0,
          1
         ],
         "y": [
          292.38885,
          296.69748,
          294.08127,
          293.38162,
          293.52023,
          292.618,
          293.84738,
          294.6254,
          292.6558,
          293.77216,
          294.0796,
          293.51968,
          293.01865,
          292.20517,
          290.25443,
          292.0709,
          290.99878,
          295.29526,
          293.74155,
          293.3942,
          292.87988,
          292.06216,
          293.17355,
          291.75232,
          293.113,
          293.3394,
          293.80063,
          292.70352,
          295.14615,
          292.6284,
          290.99414,
          292.07803,
          291.21982,
          293.2684,
          294.36124,
          293.40237,
          291.28207,
          290.72845,
          293.32483,
          291.61417,
          292.07663,
          294.2073,
          296.61813,
          294.5558,
          292.8845,
          293.0311,
          293.5678,
          296.21768,
          292.66602,
          294.82846,
          293.74966,
          294.60806,
          293.50107,
          292.7101,
          294.043,
          294.8304,
          293.5294,
          292.15097,
          293.80115,
          293.2913,
          292.83548,
          294.40186,
          293.40247,
          295.08768,
          293.27768,
          293.65152,
          293.37463,
          294.8788,
          293.10403,
          293.11948,
          293.58884,
          294.95004,
          295.03232,
          294.6825,
          293.95776,
          294.9612,
          293.60135,
          293.98267,
          293.55325,
          296.2445,
          295.26694,
          294.89407,
          296.35397,
          296.03848
         ],
         "z": [
          6,
          11,
          4,
          4,
          5,
          6,
          1,
          2,
          2,
          6,
          5,
          7,
          8,
          4,
          7,
          7,
          8,
          4,
          10,
          8,
          5,
          5,
          7,
          8,
          4,
          12,
          11,
          5,
          6,
          6,
          3,
          7,
          6,
          7,
          12,
          6,
          7,
          3,
          9,
          6,
          11,
          13,
          10,
          7,
          7,
          2,
          7,
          6,
          8,
          14,
          7,
          6,
          7,
          4,
          11,
          10,
          8,
          6,
          8,
          8,
          8,
          6,
          5,
          7,
          2,
          7,
          5,
          9,
          11,
          6,
          5,
          3,
          7,
          10,
          9,
          8,
          7,
          5,
          3,
          13,
          7,
          5,
          7,
          10
         ]
        }
       ],
       "layout": {
        "font": {
         "size": 18
        },
        "legend": {
         "title": {
          "text": "Data"
         },
         "tracegroupgap": 0
        },
        "margin": {
         "t": 60
        },
        "plot_bgcolor": "#F5F5F8",
        "scene": {
         "domain": {
          "x": [
           0,
           1
          ],
          "y": [
           0,
           1
          ]
         },
         "xaxis": {
          "title": {
           "text": "dry"
          }
         },
         "yaxis": {
          "title": {
           "text": "hot"
          }
         },
         "zaxis": {
          "title": {
           "text": "wind"
          }
         }
        },
        "showlegend": false,
        "template": {
         "data": {
          "bar": [
           {
            "error_x": {
             "color": "#2a3f5f"
            },
            "error_y": {
             "color": "#2a3f5f"
            },
            "marker": {
             "line": {
              "color": "#E5ECF6",
              "width": 0.5
             },
             "pattern": {
              "fillmode": "overlay",
              "size": 10,
              "solidity": 0.2
             }
            },
            "type": "bar"
           }
          ],
          "barpolar": [
           {
            "marker": {
             "line": {
              "color": "#E5ECF6",
              "width": 0.5
             },
             "pattern": {
              "fillmode": "overlay",
              "size": 10,
              "solidity": 0.2
             }
            },
            "type": "barpolar"
           }
          ],
          "carpet": [
           {
            "aaxis": {
             "endlinecolor": "#2a3f5f",
             "gridcolor": "white",
             "linecolor": "white",
             "minorgridcolor": "white",
             "startlinecolor": "#2a3f5f"
            },
            "baxis": {
             "endlinecolor": "#2a3f5f",
             "gridcolor": "white",
             "linecolor": "white",
             "minorgridcolor": "white",
             "startlinecolor": "#2a3f5f"
            },
            "type": "carpet"
           }
          ],
          "choropleth": [
           {
            "colorbar": {
             "outlinewidth": 0,
             "ticks": ""
            },
            "type": "choropleth"
           }
          ],
          "contour": [
           {
            "colorbar": {
             "outlinewidth": 0,
             "ticks": ""
            },
            "colorscale": [
             [
              0,
              "#0d0887"
             ],
             [
              0.1111111111111111,
              "#46039f"
             ],
             [
              0.2222222222222222,
              "#7201a8"
             ],
             [
              0.3333333333333333,
              "#9c179e"
             ],
             [
              0.4444444444444444,
              "#bd3786"
             ],
             [
              0.5555555555555556,
              "#d8576b"
             ],
             [
              0.6666666666666666,
              "#ed7953"
             ],
             [
              0.7777777777777778,
              "#fb9f3a"
             ],
             [
              0.8888888888888888,
              "#fdca26"
             ],
             [
              1,
              "#f0f921"
             ]
            ],
            "type": "contour"
           }
          ],
          "contourcarpet": [
           {
            "colorbar": {
             "outlinewidth": 0,
             "ticks": ""
            },
            "type": "contourcarpet"
           }
          ],
          "heatmap": [
           {
            "colorbar": {
             "outlinewidth": 0,
             "ticks": ""
            },
            "colorscale": [
             [
              0,
              "#0d0887"
             ],
             [
              0.1111111111111111,
              "#46039f"
             ],
             [
              0.2222222222222222,
              "#7201a8"
             ],
             [
              0.3333333333333333,
              "#9c179e"
             ],
             [
              0.4444444444444444,
              "#bd3786"
             ],
             [
              0.5555555555555556,
              "#d8576b"
             ],
             [
              0.6666666666666666,
              "#ed7953"
             ],
             [
              0.7777777777777778,
              "#fb9f3a"
             ],
             [
              0.8888888888888888,
              "#fdca26"
             ],
             [
              1,
              "#f0f921"
             ]
            ],
            "type": "heatmap"
           }
          ],
          "heatmapgl": [
           {
            "colorbar": {
             "outlinewidth": 0,
             "ticks": ""
            },
            "colorscale": [
             [
              0,
              "#0d0887"
             ],
             [
              0.1111111111111111,
              "#46039f"
             ],
             [
              0.2222222222222222,
              "#7201a8"
             ],
             [
              0.3333333333333333,
              "#9c179e"
             ],
             [
              0.4444444444444444,
              "#bd3786"
             ],
             [
              0.5555555555555556,
              "#d8576b"
             ],
             [
              0.6666666666666666,
              "#ed7953"
             ],
             [
              0.7777777777777778,
              "#fb9f3a"
             ],
             [
              0.8888888888888888,
              "#fdca26"
             ],
             [
              1,
              "#f0f921"
             ]
            ],
            "type": "heatmapgl"
           }
          ],
          "histogram": [
           {
            "marker": {
             "pattern": {
              "fillmode": "overlay",
              "size": 10,
              "solidity": 0.2
             }
            },
            "type": "histogram"
           }
          ],
          "histogram2d": [
           {
            "colorbar": {
             "outlinewidth": 0,
             "ticks": ""
            },
            "colorscale": [
             [
              0,
              "#0d0887"
             ],
             [
              0.1111111111111111,
              "#46039f"
             ],
             [
              0.2222222222222222,
              "#7201a8"
             ],
             [
              0.3333333333333333,
              "#9c179e"
             ],
             [
              0.4444444444444444,
              "#bd3786"
             ],
             [
              0.5555555555555556,
              "#d8576b"
             ],
             [
              0.6666666666666666,
              "#ed7953"
             ],
             [
              0.7777777777777778,
              "#fb9f3a"
             ],
             [
              0.8888888888888888,
              "#fdca26"
             ],
             [
              1,
              "#f0f921"
             ]
            ],
            "type": "histogram2d"
           }
          ],
          "histogram2dcontour": [
           {
            "colorbar": {
             "outlinewidth": 0,
             "ticks": ""
            },
            "colorscale": [
             [
              0,
              "#0d0887"
             ],
             [
              0.1111111111111111,
              "#46039f"
             ],
             [
              0.2222222222222222,
              "#7201a8"
             ],
             [
              0.3333333333333333,
              "#9c179e"
             ],
             [
              0.4444444444444444,
              "#bd3786"
             ],
             [
              0.5555555555555556,
              "#d8576b"
             ],
             [
              0.6666666666666666,
              "#ed7953"
             ],
             [
              0.7777777777777778,
              "#fb9f3a"
             ],
             [
              0.8888888888888888,
              "#fdca26"
             ],
             [
              1,
              "#f0f921"
             ]
            ],
            "type": "histogram2dcontour"
           }
          ],
          "mesh3d": [
           {
            "colorbar": {
             "outlinewidth": 0,
             "ticks": ""
            },
            "type": "mesh3d"
           }
          ],
          "parcoords": [
           {
            "line": {
             "colorbar": {
              "outlinewidth": 0,
              "ticks": ""
             }
            },
            "type": "parcoords"
           }
          ],
          "pie": [
           {
            "automargin": true,
            "type": "pie"
           }
          ],
          "scatter": [
           {
            "fillpattern": {
             "fillmode": "overlay",
             "size": 10,
             "solidity": 0.2
            },
            "type": "scatter"
           }
          ],
          "scatter3d": [
           {
            "line": {
             "colorbar": {
              "outlinewidth": 0,
              "ticks": ""
             }
            },
            "marker": {
             "colorbar": {
              "outlinewidth": 0,
              "ticks": ""
             }
            },
            "type": "scatter3d"
           }
          ],
          "scattercarpet": [
           {
            "marker": {
             "colorbar": {
              "outlinewidth": 0,
              "ticks": ""
             }
            },
            "type": "scattercarpet"
           }
          ],
          "scattergeo": [
           {
            "marker": {
             "colorbar": {
              "outlinewidth": 0,
              "ticks": ""
             }
            },
            "type": "scattergeo"
           }
          ],
          "scattergl": [
           {
            "marker": {
             "colorbar": {
              "outlinewidth": 0,
              "ticks": ""
             }
            },
            "type": "scattergl"
           }
          ],
          "scattermapbox": [
           {
            "marker": {
             "colorbar": {
              "outlinewidth": 0,
              "ticks": ""
             }
            },
            "type": "scattermapbox"
           }
          ],
          "scatterpolar": [
           {
            "marker": {
             "colorbar": {
              "outlinewidth": 0,
              "ticks": ""
             }
            },
            "type": "scatterpolar"
           }
          ],
          "scatterpolargl": [
           {
            "marker": {
             "colorbar": {
              "outlinewidth": 0,
              "ticks": ""
             }
            },
            "type": "scatterpolargl"
           }
          ],
          "scatterternary": [
           {
            "marker": {
             "colorbar": {
              "outlinewidth": 0,
              "ticks": ""
             }
            },
            "type": "scatterternary"
           }
          ],
          "surface": [
           {
            "colorbar": {
             "outlinewidth": 0,
             "ticks": ""
            },
            "colorscale": [
             [
              0,
              "#0d0887"
             ],
             [
              0.1111111111111111,
              "#46039f"
             ],
             [
              0.2222222222222222,
              "#7201a8"
             ],
             [
              0.3333333333333333,
              "#9c179e"
             ],
             [
              0.4444444444444444,
              "#bd3786"
             ],
             [
              0.5555555555555556,
              "#d8576b"
             ],
             [
              0.6666666666666666,
              "#ed7953"
             ],
             [
              0.7777777777777778,
              "#fb9f3a"
             ],
             [
              0.8888888888888888,
              "#fdca26"
             ],
             [
              1,
              "#f0f921"
             ]
            ],
            "type": "surface"
           }
          ],
          "table": [
           {
            "cells": {
             "fill": {
              "color": "#EBF0F8"
             },
             "line": {
              "color": "white"
             }
            },
            "header": {
             "fill": {
              "color": "#C8D4E3"
             },
             "line": {
              "color": "white"
             }
            },
            "type": "table"
           }
          ]
         },
         "layout": {
          "annotationdefaults": {
           "arrowcolor": "#2a3f5f",
           "arrowhead": 0,
           "arrowwidth": 1
          },
          "autotypenumbers": "strict",
          "coloraxis": {
           "colorbar": {
            "outlinewidth": 0,
            "ticks": ""
           }
          },
          "colorscale": {
           "diverging": [
            [
             0,
             "#8e0152"
            ],
            [
             0.1,
             "#c51b7d"
            ],
            [
             0.2,
             "#de77ae"
            ],
            [
             0.3,
             "#f1b6da"
            ],
            [
             0.4,
             "#fde0ef"
            ],
            [
             0.5,
             "#f7f7f7"
            ],
            [
             0.6,
             "#e6f5d0"
            ],
            [
             0.7,
             "#b8e186"
            ],
            [
             0.8,
             "#7fbc41"
            ],
            [
             0.9,
             "#4d9221"
            ],
            [
             1,
             "#276419"
            ]
           ],
           "sequential": [
            [
             0,
             "#0d0887"
            ],
            [
             0.1111111111111111,
             "#46039f"
            ],
            [
             0.2222222222222222,
             "#7201a8"
            ],
            [
             0.3333333333333333,
             "#9c179e"
            ],
            [
             0.4444444444444444,
             "#bd3786"
            ],
            [
             0.5555555555555556,
             "#d8576b"
            ],
            [
             0.6666666666666666,
             "#ed7953"
            ],
            [
             0.7777777777777778,
             "#fb9f3a"
            ],
            [
             0.8888888888888888,
             "#fdca26"
            ],
            [
             1,
             "#f0f921"
            ]
           ],
           "sequentialminus": [
            [
             0,
             "#0d0887"
            ],
            [
             0.1111111111111111,
             "#46039f"
            ],
            [
             0.2222222222222222,
             "#7201a8"
            ],
            [
             0.3333333333333333,
             "#9c179e"
            ],
            [
             0.4444444444444444,
             "#bd3786"
            ],
            [
             0.5555555555555556,
             "#d8576b"
            ],
            [
             0.6666666666666666,
             "#ed7953"
            ],
            [
             0.7777777777777778,
             "#fb9f3a"
            ],
            [
             0.8888888888888888,
             "#fdca26"
            ],
            [
             1,
             "#f0f921"
            ]
           ]
          },
          "colorway": [
           "#636efa",
           "#EF553B",
           "#00cc96",
           "#ab63fa",
           "#FFA15A",
           "#19d3f3",
           "#FF6692",
           "#B6E880",
           "#FF97FF",
           "#FECB52"
          ],
          "font": {
           "color": "#2a3f5f"
          },
          "geo": {
           "bgcolor": "white",
           "lakecolor": "white",
           "landcolor": "#E5ECF6",
           "showlakes": true,
           "showland": true,
           "subunitcolor": "white"
          },
          "hoverlabel": {
           "align": "left"
          },
          "hovermode": "closest",
          "mapbox": {
           "style": "light"
          },
          "paper_bgcolor": "white",
          "plot_bgcolor": "#E5ECF6",
          "polar": {
           "angularaxis": {
            "gridcolor": "white",
            "linecolor": "white",
            "ticks": ""
           },
           "bgcolor": "#E5ECF6",
           "radialaxis": {
            "gridcolor": "white",
            "linecolor": "white",
            "ticks": ""
           }
          },
          "scene": {
           "xaxis": {
            "backgroundcolor": "#E5ECF6",
            "gridcolor": "white",
            "gridwidth": 2,
            "linecolor": "white",
            "showbackground": true,
            "ticks": "",
            "zerolinecolor": "white"
           },
           "yaxis": {
            "backgroundcolor": "#E5ECF6",
            "gridcolor": "white",
            "gridwidth": 2,
            "linecolor": "white",
            "showbackground": true,
            "ticks": "",
            "zerolinecolor": "white"
           },
           "zaxis": {
            "backgroundcolor": "#E5ECF6",
            "gridcolor": "white",
            "gridwidth": 2,
            "linecolor": "white",
            "showbackground": true,
            "ticks": "",
            "zerolinecolor": "white"
           }
          },
          "shapedefaults": {
           "line": {
            "color": "#2a3f5f"
           }
          },
          "ternary": {
           "aaxis": {
            "gridcolor": "white",
            "linecolor": "white",
            "ticks": ""
           },
           "baxis": {
            "gridcolor": "white",
            "linecolor": "white",
            "ticks": ""
           },
           "bgcolor": "#E5ECF6",
           "caxis": {
            "gridcolor": "white",
            "linecolor": "white",
            "ticks": ""
           }
          },
          "title": {
           "x": 0.05
          },
          "xaxis": {
           "automargin": true,
           "gridcolor": "white",
           "linecolor": "white",
           "ticks": "",
           "title": {
            "standoff": 15
           },
           "zerolinecolor": "white",
           "zerolinewidth": 2
          },
          "yaxis": {
           "automargin": true,
           "gridcolor": "white",
           "linecolor": "white",
           "ticks": "",
           "title": {
            "standoff": 15
           },
           "zerolinecolor": "white",
           "zerolinewidth": 2
          }
         }
        },
        "title": {
         "text": "Data for columns 'dry', 'hot' and 'wind'"
        }
       }
      }
     },
     "metadata": {},
     "output_type": "display_data"
    }
   ],
   "source": [
    "\n",
    "scatter_3d(df.iloc[:,1:])"
   ]
  },
  {
   "cell_type": "code",
   "execution_count": 51,
   "metadata": {},
   "outputs": [
    {
     "data": {
      "application/vnd.plotly.v1+json": {
       "config": {
        "plotlyServerURL": "https://plot.ly"
       },
       "data": [
        {
         "hovertemplate": "Data=Real<br>dry=%{x}<br>hot=%{y}<br>wind=%{z}<extra></extra>",
         "legendgroup": "Real",
         "marker": {
          "color": "#000036",
          "size": 5,
          "symbol": "circle"
         },
         "mode": "markers",
         "name": "Real",
         "scene": "scene",
         "showlegend": true,
         "type": "scatter3d",
         "x": [
          0,
          5,
          7,
          4,
          7,
          3,
          0,
          0,
          2,
          8,
          3,
          0,
          6,
          9,
          2,
          2,
          0,
          8,
          2,
          0,
          3,
          0,
          6,
          4,
          3,
          3,
          0,
          3,
          0,
          0,
          1,
          1,
          0,
          2,
          0,
          0,
          5,
          0,
          3,
          0,
          0,
          0,
          0,
          0,
          0,
          3,
          1,
          0,
          3,
          8,
          5,
          0,
          3,
          3,
          2,
          3,
          2,
          2,
          1,
          0,
          0,
          0,
          3,
          0,
          6,
          3,
          0,
          3,
          2,
          0,
          0,
          3,
          3,
          0,
          0,
          2,
          1,
          0,
          0,
          3,
          0,
          2,
          0,
          1
         ],
         "y": [
          292.38885498046875,
          296.6974792480469,
          294.0812683105469,
          293.3816223144531,
          293.5202331542969,
          292.6180114746094,
          293.8473815917969,
          294.6253967285156,
          292.6557922363281,
          293.77215576171875,
          294.07958984375,
          293.5196838378906,
          293.0186462402344,
          292.2051696777344,
          290.2544250488281,
          292.0708923339844,
          290.998779296875,
          295.2952575683594,
          293.7415466308594,
          293.3941955566406,
          292.8798828125,
          292.0621643066406,
          293.1735534667969,
          291.7523193359375,
          293.1130065917969,
          293.3393859863281,
          293.8006286621094,
          292.7035217285156,
          295.1461486816406,
          292.6283874511719,
          290.994140625,
          292.0780334472656,
          291.2198181152344,
          293.2684020996094,
          294.3612365722656,
          293.4023742675781,
          291.2820739746094,
          290.72845458984375,
          293.3248291015625,
          291.6141662597656,
          292.0766296386719,
          294.2073059082031,
          296.6181335449219,
          294.5557861328125,
          292.8844909667969,
          293.0310974121094,
          293.56781005859375,
          296.2176818847656,
          292.666015625,
          294.8284606933594,
          293.7496643066406,
          294.6080627441406,
          293.5010681152344,
          292.7101135253906,
          294.0429992675781,
          294.8304138183594,
          293.5293884277344,
          292.1509704589844,
          293.8011474609375,
          293.2912902832031,
          292.8354797363281,
          294.40185546875,
          293.4024658203125,
          295.0876770019531,
          293.2776794433594,
          293.6515197753906,
          293.3746337890625,
          294.8788146972656,
          293.1040344238281,
          293.1194763183594,
          293.5888366699219,
          294.9500427246094,
          295.0323181152344,
          294.6824951171875,
          293.957763671875,
          294.9612121582031,
          293.6013488769531,
          293.982666015625,
          293.5532531738281,
          296.2445068359375,
          295.2669372558594,
          294.8940734863281,
          296.3539733886719,
          296.0384826660156
         ],
         "z": [
          6,
          11,
          4,
          4,
          5,
          6,
          1,
          2,
          2,
          6,
          5,
          7,
          8,
          4,
          7,
          7,
          8,
          4,
          10,
          8,
          5,
          5,
          7,
          8,
          4,
          12,
          11,
          5,
          6,
          6,
          3,
          7,
          6,
          7,
          12,
          6,
          7,
          3,
          9,
          6,
          11,
          13,
          10,
          7,
          7,
          2,
          7,
          6,
          8,
          14,
          7,
          6,
          7,
          4,
          11,
          10,
          8,
          6,
          8,
          8,
          8,
          6,
          5,
          7,
          2,
          7,
          5,
          9,
          11,
          6,
          5,
          3,
          7,
          10,
          9,
          8,
          7,
          5,
          3,
          13,
          7,
          5,
          7,
          10
         ]
        },
        {
         "hovertemplate": "Data=Synthetic<br>dry=%{x}<br>hot=%{y}<br>wind=%{z}<extra></extra>",
         "legendgroup": "Synthetic",
         "marker": {
          "color": "#01E0C9",
          "size": 5,
          "symbol": "diamond"
         },
         "mode": "markers",
         "name": "Synthetic",
         "scene": "scene",
         "showlegend": true,
         "type": "scatter3d",
         "x": [
          4.225052663660814,
          1.6955788707527686,
          2.0563366449637455,
          7.456687475652255,
          0.6399739237211068,
          -0.2697762713500578,
          5.42971332914633,
          4.341956845250475,
          0.19339115747796076,
          5.787236858116959,
          4.1534057257584145,
          -0.30306823110827974,
          0.9006066582369892,
          1.8902503473057628,
          4.142014989678094,
          3.253459626426606,
          1.7231315273394838,
          0.9308549962614348,
          2.523450613536102,
          1.023910575224702,
          -0.05656567967318438,
          1.9010170496637397,
          3.4531176443676213,
          0.34874158887868956,
          -0.4940021749494026,
          2.423039186763756,
          -1.80491378918894,
          2.980059601552173,
          3.648703704251375,
          0.4666437909449428,
          0.4800811743669162,
          -0.28647318835166047,
          1.9262565790711936,
          3.386083507987178,
          1.9034066175854156,
          -1.6676541524666417,
          3.5056781480477914,
          0.33569616191854124,
          -2.1495739829807308,
          -0.7622835016667602,
          5.875119922143778,
          4.319430520980631,
          3.401495021202235,
          2.315439726502311,
          0.7186499772774158,
          0.5588659329416565,
          4.158949764382977,
          -0.8659858480317664,
          4.8836117994204455,
          2.572395272215622,
          2.1491000185198468,
          2.1163232781292662,
          0.1583066514766578,
          2.84614476992422,
          1.9137878474668666,
          -0.5805178608104411,
          1.3502385007017432,
          2.581122241653483,
          0.25114840342831535,
          -1.4831521620483326,
          3.1074135171671218,
          1.723012026241602,
          -1.5535807195118743,
          2.376051072980008,
          6.268975049767046,
          5.78051409709281,
          2.2014903888829287,
          -0.8693646453086687,
          1.9465032261398114,
          2.6554958846358048,
          2.228143256034345,
          2.292885729502574,
          1.455266531455698,
          2.202378210668643,
          -2.2191442882014325,
          4.087935186510856,
          5.371076990993139,
          5.326018377729444,
          -1.7257202019944176,
          2.049581572206527,
          5.619189716500958,
          -0.16741331182753383,
          2.858857495636788,
          0.037257762029435204
         ],
         "y": [
          294.5097299648489,
          293.2699339091877,
          292.9581796103255,
          294.61805750161585,
          294.63410102916777,
          293.25451514434616,
          294.605782875851,
          291.5271892280591,
          295.2523400404529,
          294.5023055207638,
          291.01433973143526,
          292.03346002508266,
          295.4657919602267,
          294.1246212511305,
          294.7204145808373,
          292.667233143488,
          293.4832258997913,
          294.2321526188004,
          293.6352347955198,
          294.98580978782024,
          292.98051255325436,
          292.7312397116766,
          293.53450901670953,
          293.2781101040525,
          292.282221018389,
          294.37962785304705,
          293.80776884398705,
          294.8315906761044,
          296.759252746789,
          296.8552961378726,
          293.89496305654257,
          290.713907407417,
          292.7080666942805,
          292.0381348248511,
          292.23920911457486,
          293.89046534016455,
          294.3574590586133,
          292.46844853791254,
          293.6764997540813,
          292.30881292118096,
          292.14056917129534,
          292.68566425105456,
          290.8742316143625,
          292.8864769947807,
          294.06433892578815,
          292.7954637459607,
          293.3286064250862,
          292.7945407263189,
          293.2854439508966,
          294.132844116447,
          292.7015848191096,
          294.8686253139277,
          295.3588523423308,
          293.4064558817329,
          292.7411186894575,
          296.8462300965981,
          292.91180673465,
          292.0764399250862,
          292.51050326285906,
          295.96482382176094,
          292.99778636492636,
          296.6403671961645,
          289.36017040810395,
          292.5157977647035,
          293.32232775315197,
          294.02787111324886,
          294.0711143206424,
          292.3996503854118,
          293.3483922696713,
          292.94648937736446,
          294.23474600078396,
          293.42767044544246,
          293.1748007123889,
          293.2267181413416,
          291.2920640878149,
          292.36089280848233,
          292.8309681665115,
          292.24118208983884,
          294.3357233092815,
          292.27661823448346,
          295.4236670161252,
          291.7061150136651,
          294.60580685928113,
          293.14445283943667
         ],
         "z": [
          10.487777001675335,
          9.245114509597471,
          0.7556201609380162,
          9.751993760469777,
          7.874908880828887,
          5.94530667123525,
          8.232040023200971,
          6.6859847160186705,
          8.456586483263843,
          10.080408389159032,
          5.559172123268204,
          5.37621965430911,
          7.670825375023544,
          5.052265289787046,
          3.9502349275842086,
          7.662837259231478,
          5.922483852410861,
          5.973692901817447,
          6.3945364532373326,
          6.958500162176446,
          4.594024865521135,
          4.859764486004194,
          5.945751418078587,
          6.395958207337638,
          6.320933590916188,
          5.212633994712627,
          1.400725121284462,
          5.281953210193328,
          5.947884046575204,
          11.998335468801638,
          8.39723165470695,
          1.2603720662185065,
          6.124078397319025,
          3.865045499392101,
          3.8233218886034677,
          10.08441634179485,
          13.864602379504902,
          4.492157746137816,
          10.287296169773223,
          2.9160535928689897,
          4.053043224516582,
          5.027705594081357,
          10.111934192088352,
          7.966984673017629,
          6.479335787644164,
          10.618290976275459,
          10.366335847535243,
          4.908269589207476,
          5.963693623476466,
          6.63395032171257,
          8.924571217518173,
          3.745249640104807,
          9.2298643004366,
          8.296935863606741,
          8.137519922926536,
          3.59139483722909,
          6.887033551016976,
          4.64733460234342,
          10.519390056140658,
          6.732540917764696,
          6.164832695158641,
          12.368699092926867,
          5.060020601669814,
          0.030725724887215478,
          7.253015972964968,
          3.7396955045089935,
          3.8742995045042394,
          5.603165512949921,
          8.446319511413133,
          6.689607585116934,
          6.375161331950382,
          7.440237778678616,
          8.011500020571987,
          5.364342587524249,
          4.726488649020105,
          2.3869905830739846,
          3.9607114845832885,
          4.059228260499928,
          9.039548334357196,
          7.592128104717995,
          9.940359002866337,
          6.975404292725079,
          6.187960563922683,
          9.78150445333199
         ]
        }
       ],
       "layout": {
        "font": {
         "size": 18
        },
        "legend": {
         "title": {
          "text": "Data"
         },
         "tracegroupgap": 0
        },
        "margin": {
         "t": 60
        },
        "plot_bgcolor": "#F5F5F8",
        "scene": {
         "domain": {
          "x": [
           0,
           1
          ],
          "y": [
           0,
           1
          ]
         },
         "xaxis": {
          "title": {
           "text": "dry"
          }
         },
         "yaxis": {
          "title": {
           "text": "hot"
          }
         },
         "zaxis": {
          "title": {
           "text": "wind"
          }
         }
        },
        "showlegend": true,
        "template": {
         "data": {
          "bar": [
           {
            "error_x": {
             "color": "#2a3f5f"
            },
            "error_y": {
             "color": "#2a3f5f"
            },
            "marker": {
             "line": {
              "color": "#E5ECF6",
              "width": 0.5
             },
             "pattern": {
              "fillmode": "overlay",
              "size": 10,
              "solidity": 0.2
             }
            },
            "type": "bar"
           }
          ],
          "barpolar": [
           {
            "marker": {
             "line": {
              "color": "#E5ECF6",
              "width": 0.5
             },
             "pattern": {
              "fillmode": "overlay",
              "size": 10,
              "solidity": 0.2
             }
            },
            "type": "barpolar"
           }
          ],
          "carpet": [
           {
            "aaxis": {
             "endlinecolor": "#2a3f5f",
             "gridcolor": "white",
             "linecolor": "white",
             "minorgridcolor": "white",
             "startlinecolor": "#2a3f5f"
            },
            "baxis": {
             "endlinecolor": "#2a3f5f",
             "gridcolor": "white",
             "linecolor": "white",
             "minorgridcolor": "white",
             "startlinecolor": "#2a3f5f"
            },
            "type": "carpet"
           }
          ],
          "choropleth": [
           {
            "colorbar": {
             "outlinewidth": 0,
             "ticks": ""
            },
            "type": "choropleth"
           }
          ],
          "contour": [
           {
            "colorbar": {
             "outlinewidth": 0,
             "ticks": ""
            },
            "colorscale": [
             [
              0,
              "#0d0887"
             ],
             [
              0.1111111111111111,
              "#46039f"
             ],
             [
              0.2222222222222222,
              "#7201a8"
             ],
             [
              0.3333333333333333,
              "#9c179e"
             ],
             [
              0.4444444444444444,
              "#bd3786"
             ],
             [
              0.5555555555555556,
              "#d8576b"
             ],
             [
              0.6666666666666666,
              "#ed7953"
             ],
             [
              0.7777777777777778,
              "#fb9f3a"
             ],
             [
              0.8888888888888888,
              "#fdca26"
             ],
             [
              1,
              "#f0f921"
             ]
            ],
            "type": "contour"
           }
          ],
          "contourcarpet": [
           {
            "colorbar": {
             "outlinewidth": 0,
             "ticks": ""
            },
            "type": "contourcarpet"
           }
          ],
          "heatmap": [
           {
            "colorbar": {
             "outlinewidth": 0,
             "ticks": ""
            },
            "colorscale": [
             [
              0,
              "#0d0887"
             ],
             [
              0.1111111111111111,
              "#46039f"
             ],
             [
              0.2222222222222222,
              "#7201a8"
             ],
             [
              0.3333333333333333,
              "#9c179e"
             ],
             [
              0.4444444444444444,
              "#bd3786"
             ],
             [
              0.5555555555555556,
              "#d8576b"
             ],
             [
              0.6666666666666666,
              "#ed7953"
             ],
             [
              0.7777777777777778,
              "#fb9f3a"
             ],
             [
              0.8888888888888888,
              "#fdca26"
             ],
             [
              1,
              "#f0f921"
             ]
            ],
            "type": "heatmap"
           }
          ],
          "heatmapgl": [
           {
            "colorbar": {
             "outlinewidth": 0,
             "ticks": ""
            },
            "colorscale": [
             [
              0,
              "#0d0887"
             ],
             [
              0.1111111111111111,
              "#46039f"
             ],
             [
              0.2222222222222222,
              "#7201a8"
             ],
             [
              0.3333333333333333,
              "#9c179e"
             ],
             [
              0.4444444444444444,
              "#bd3786"
             ],
             [
              0.5555555555555556,
              "#d8576b"
             ],
             [
              0.6666666666666666,
              "#ed7953"
             ],
             [
              0.7777777777777778,
              "#fb9f3a"
             ],
             [
              0.8888888888888888,
              "#fdca26"
             ],
             [
              1,
              "#f0f921"
             ]
            ],
            "type": "heatmapgl"
           }
          ],
          "histogram": [
           {
            "marker": {
             "pattern": {
              "fillmode": "overlay",
              "size": 10,
              "solidity": 0.2
             }
            },
            "type": "histogram"
           }
          ],
          "histogram2d": [
           {
            "colorbar": {
             "outlinewidth": 0,
             "ticks": ""
            },
            "colorscale": [
             [
              0,
              "#0d0887"
             ],
             [
              0.1111111111111111,
              "#46039f"
             ],
             [
              0.2222222222222222,
              "#7201a8"
             ],
             [
              0.3333333333333333,
              "#9c179e"
             ],
             [
              0.4444444444444444,
              "#bd3786"
             ],
             [
              0.5555555555555556,
              "#d8576b"
             ],
             [
              0.6666666666666666,
              "#ed7953"
             ],
             [
              0.7777777777777778,
              "#fb9f3a"
             ],
             [
              0.8888888888888888,
              "#fdca26"
             ],
             [
              1,
              "#f0f921"
             ]
            ],
            "type": "histogram2d"
           }
          ],
          "histogram2dcontour": [
           {
            "colorbar": {
             "outlinewidth": 0,
             "ticks": ""
            },
            "colorscale": [
             [
              0,
              "#0d0887"
             ],
             [
              0.1111111111111111,
              "#46039f"
             ],
             [
              0.2222222222222222,
              "#7201a8"
             ],
             [
              0.3333333333333333,
              "#9c179e"
             ],
             [
              0.4444444444444444,
              "#bd3786"
             ],
             [
              0.5555555555555556,
              "#d8576b"
             ],
             [
              0.6666666666666666,
              "#ed7953"
             ],
             [
              0.7777777777777778,
              "#fb9f3a"
             ],
             [
              0.8888888888888888,
              "#fdca26"
             ],
             [
              1,
              "#f0f921"
             ]
            ],
            "type": "histogram2dcontour"
           }
          ],
          "mesh3d": [
           {
            "colorbar": {
             "outlinewidth": 0,
             "ticks": ""
            },
            "type": "mesh3d"
           }
          ],
          "parcoords": [
           {
            "line": {
             "colorbar": {
              "outlinewidth": 0,
              "ticks": ""
             }
            },
            "type": "parcoords"
           }
          ],
          "pie": [
           {
            "automargin": true,
            "type": "pie"
           }
          ],
          "scatter": [
           {
            "fillpattern": {
             "fillmode": "overlay",
             "size": 10,
             "solidity": 0.2
            },
            "type": "scatter"
           }
          ],
          "scatter3d": [
           {
            "line": {
             "colorbar": {
              "outlinewidth": 0,
              "ticks": ""
             }
            },
            "marker": {
             "colorbar": {
              "outlinewidth": 0,
              "ticks": ""
             }
            },
            "type": "scatter3d"
           }
          ],
          "scattercarpet": [
           {
            "marker": {
             "colorbar": {
              "outlinewidth": 0,
              "ticks": ""
             }
            },
            "type": "scattercarpet"
           }
          ],
          "scattergeo": [
           {
            "marker": {
             "colorbar": {
              "outlinewidth": 0,
              "ticks": ""
             }
            },
            "type": "scattergeo"
           }
          ],
          "scattergl": [
           {
            "marker": {
             "colorbar": {
              "outlinewidth": 0,
              "ticks": ""
             }
            },
            "type": "scattergl"
           }
          ],
          "scattermapbox": [
           {
            "marker": {
             "colorbar": {
              "outlinewidth": 0,
              "ticks": ""
             }
            },
            "type": "scattermapbox"
           }
          ],
          "scatterpolar": [
           {
            "marker": {
             "colorbar": {
              "outlinewidth": 0,
              "ticks": ""
             }
            },
            "type": "scatterpolar"
           }
          ],
          "scatterpolargl": [
           {
            "marker": {
             "colorbar": {
              "outlinewidth": 0,
              "ticks": ""
             }
            },
            "type": "scatterpolargl"
           }
          ],
          "scatterternary": [
           {
            "marker": {
             "colorbar": {
              "outlinewidth": 0,
              "ticks": ""
             }
            },
            "type": "scatterternary"
           }
          ],
          "surface": [
           {
            "colorbar": {
             "outlinewidth": 0,
             "ticks": ""
            },
            "colorscale": [
             [
              0,
              "#0d0887"
             ],
             [
              0.1111111111111111,
              "#46039f"
             ],
             [
              0.2222222222222222,
              "#7201a8"
             ],
             [
              0.3333333333333333,
              "#9c179e"
             ],
             [
              0.4444444444444444,
              "#bd3786"
             ],
             [
              0.5555555555555556,
              "#d8576b"
             ],
             [
              0.6666666666666666,
              "#ed7953"
             ],
             [
              0.7777777777777778,
              "#fb9f3a"
             ],
             [
              0.8888888888888888,
              "#fdca26"
             ],
             [
              1,
              "#f0f921"
             ]
            ],
            "type": "surface"
           }
          ],
          "table": [
           {
            "cells": {
             "fill": {
              "color": "#EBF0F8"
             },
             "line": {
              "color": "white"
             }
            },
            "header": {
             "fill": {
              "color": "#C8D4E3"
             },
             "line": {
              "color": "white"
             }
            },
            "type": "table"
           }
          ]
         },
         "layout": {
          "annotationdefaults": {
           "arrowcolor": "#2a3f5f",
           "arrowhead": 0,
           "arrowwidth": 1
          },
          "autotypenumbers": "strict",
          "coloraxis": {
           "colorbar": {
            "outlinewidth": 0,
            "ticks": ""
           }
          },
          "colorscale": {
           "diverging": [
            [
             0,
             "#8e0152"
            ],
            [
             0.1,
             "#c51b7d"
            ],
            [
             0.2,
             "#de77ae"
            ],
            [
             0.3,
             "#f1b6da"
            ],
            [
             0.4,
             "#fde0ef"
            ],
            [
             0.5,
             "#f7f7f7"
            ],
            [
             0.6,
             "#e6f5d0"
            ],
            [
             0.7,
             "#b8e186"
            ],
            [
             0.8,
             "#7fbc41"
            ],
            [
             0.9,
             "#4d9221"
            ],
            [
             1,
             "#276419"
            ]
           ],
           "sequential": [
            [
             0,
             "#0d0887"
            ],
            [
             0.1111111111111111,
             "#46039f"
            ],
            [
             0.2222222222222222,
             "#7201a8"
            ],
            [
             0.3333333333333333,
             "#9c179e"
            ],
            [
             0.4444444444444444,
             "#bd3786"
            ],
            [
             0.5555555555555556,
             "#d8576b"
            ],
            [
             0.6666666666666666,
             "#ed7953"
            ],
            [
             0.7777777777777778,
             "#fb9f3a"
            ],
            [
             0.8888888888888888,
             "#fdca26"
            ],
            [
             1,
             "#f0f921"
            ]
           ],
           "sequentialminus": [
            [
             0,
             "#0d0887"
            ],
            [
             0.1111111111111111,
             "#46039f"
            ],
            [
             0.2222222222222222,
             "#7201a8"
            ],
            [
             0.3333333333333333,
             "#9c179e"
            ],
            [
             0.4444444444444444,
             "#bd3786"
            ],
            [
             0.5555555555555556,
             "#d8576b"
            ],
            [
             0.6666666666666666,
             "#ed7953"
            ],
            [
             0.7777777777777778,
             "#fb9f3a"
            ],
            [
             0.8888888888888888,
             "#fdca26"
            ],
            [
             1,
             "#f0f921"
            ]
           ]
          },
          "colorway": [
           "#636efa",
           "#EF553B",
           "#00cc96",
           "#ab63fa",
           "#FFA15A",
           "#19d3f3",
           "#FF6692",
           "#B6E880",
           "#FF97FF",
           "#FECB52"
          ],
          "font": {
           "color": "#2a3f5f"
          },
          "geo": {
           "bgcolor": "white",
           "lakecolor": "white",
           "landcolor": "#E5ECF6",
           "showlakes": true,
           "showland": true,
           "subunitcolor": "white"
          },
          "hoverlabel": {
           "align": "left"
          },
          "hovermode": "closest",
          "mapbox": {
           "style": "light"
          },
          "paper_bgcolor": "white",
          "plot_bgcolor": "#E5ECF6",
          "polar": {
           "angularaxis": {
            "gridcolor": "white",
            "linecolor": "white",
            "ticks": ""
           },
           "bgcolor": "#E5ECF6",
           "radialaxis": {
            "gridcolor": "white",
            "linecolor": "white",
            "ticks": ""
           }
          },
          "scene": {
           "xaxis": {
            "backgroundcolor": "#E5ECF6",
            "gridcolor": "white",
            "gridwidth": 2,
            "linecolor": "white",
            "showbackground": true,
            "ticks": "",
            "zerolinecolor": "white"
           },
           "yaxis": {
            "backgroundcolor": "#E5ECF6",
            "gridcolor": "white",
            "gridwidth": 2,
            "linecolor": "white",
            "showbackground": true,
            "ticks": "",
            "zerolinecolor": "white"
           },
           "zaxis": {
            "backgroundcolor": "#E5ECF6",
            "gridcolor": "white",
            "gridwidth": 2,
            "linecolor": "white",
            "showbackground": true,
            "ticks": "",
            "zerolinecolor": "white"
           }
          },
          "shapedefaults": {
           "line": {
            "color": "#2a3f5f"
           }
          },
          "ternary": {
           "aaxis": {
            "gridcolor": "white",
            "linecolor": "white",
            "ticks": ""
           },
           "baxis": {
            "gridcolor": "white",
            "linecolor": "white",
            "ticks": ""
           },
           "bgcolor": "#E5ECF6",
           "caxis": {
            "gridcolor": "white",
            "linecolor": "white",
            "ticks": ""
           }
          },
          "title": {
           "x": 0.05
          },
          "xaxis": {
           "automargin": true,
           "gridcolor": "white",
           "linecolor": "white",
           "ticks": "",
           "title": {
            "standoff": 15
           },
           "zerolinecolor": "white",
           "zerolinewidth": 2
          },
          "yaxis": {
           "automargin": true,
           "gridcolor": "white",
           "linecolor": "white",
           "ticks": "",
           "title": {
            "standoff": 15
           },
           "zerolinecolor": "white",
           "zerolinewidth": 2
          }
         }
        },
        "title": {
         "text": "Real vs. Synthetic Data for columns 'dry', 'hot' and 'wind'"
        }
       }
      }
     },
     "metadata": {},
     "output_type": "display_data"
    }
   ],
   "source": [
    "\n",
    "compare_3d(df.iloc[:,1:], synthetic_data)"
   ]
  }
 ],
 "metadata": {
  "kernelspec": {
   "display_name": ".venv",
   "language": "python",
   "name": "python3"
  },
  "language_info": {
   "codemirror_mode": {
    "name": "ipython",
    "version": 3
   },
   "file_extension": ".py",
   "mimetype": "text/x-python",
   "name": "python",
   "nbconvert_exporter": "python",
   "pygments_lexer": "ipython3",
   "version": "3.10.11"
  }
 },
 "nbformat": 4,
 "nbformat_minor": 2
}

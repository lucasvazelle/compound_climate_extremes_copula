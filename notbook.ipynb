{
 "cells": [
  {
   "cell_type": "code",
   "execution_count": 55,
   "metadata": {},
   "outputs": [],
   "source": [
    "import pandas as pd\n",
    "import netCDF4 \n",
    "import os\n",
    "import numpy as np\n",
    "import xarray as xr\n",
    "import matplotlib.pyplot as plt\n",
    "import seaborn as sns\n",
    "import os\n",
    "import matplotlib.pyplot as plt\n",
    "from copulas.multivariate import GaussianMultivariate\n",
    "from copulas.multivariate import VineCopula\n",
    "from copulas.visualization import compare_3d\n",
    "from copulas.visualization import scatter_3d\n",
    "from sklearn.preprocessing import MinMaxScaler\n",
    "from copulas.univariate import GaussianUnivariate\n",
    "\n"
   ]
  },
  {
   "cell_type": "markdown",
   "metadata": {},
   "source": [
    "# Import data"
   ]
  },
  {
   "cell_type": "code",
   "execution_count": null,
   "metadata": {},
   "outputs": [],
   "source": [
    "import cdsapi\n",
    "\n",
    "dataset = \"\"\n",
    "request = {\n",
    "    \"variable\": [\n",
    "      \n",
    "    ],\n",
    "    \"experiment\": \"ERA5 reanalysis\",\n",
    "    \"year\": []\n",
    "}\n",
    "client = cdsapi.Client()\n",
    "client.retrieve(dataset, request).download()\n"
   ]
  },
  {
   "cell_type": "markdown",
   "metadata": {},
   "source": [
    "# Explore"
   ]
  },
  {
   "cell_type": "code",
   "execution_count": 3,
   "metadata": {},
   "outputs": [],
   "source": [
    "data_folder = \"data\"\n",
    "netcdf_files = [os.path.join(data_folder, f) for f in os.listdir(data_folder) if f.endswith(\".nc\")]"
   ]
  },
  {
   "cell_type": "code",
   "execution_count": 4,
   "metadata": {},
   "outputs": [
    {
     "data": {
      "text/plain": [
       "['data\\\\07_warmest_three_day_period-reanalysis-yearly-grid-1940-2023-v1.0.nc',\n",
       " 'data\\\\09_heat_waves_climatological-reanalysis-yearly-grid-1940-2023-v1.0.nc',\n",
       " 'data\\\\11_frost_days-reanalysis-yearly-grid-1940-2023-v1.0.nc',\n",
       " 'data\\\\13_maximum_five_days_precipitation-reanalysis-yearly-grid-1940-2023-v1.0.nc',\n",
       " 'data\\\\14_extreme_precipitation_total-reanalysis-yearly-grid-1940-2023-v1.0.nc',\n",
       " 'data\\\\15_frequency_of_extreme_precipitation-reanalysis-yearly-grid-1940-2023-v1.0.nc',\n",
       " 'data\\\\19_duration_of_meteorological_droughts-reanalysis-yearly-grid-1940-2023-v1.0.nc',\n",
       " 'data\\\\22_days_with_high_fire_danger-reanalysis-yearly-grid-1979-2021-v1.0.nc',\n",
       " 'data\\\\24_extreme_wind_speed_days-reanalysis-yearly-grid-1940-2023-v1.0.nc']"
      ]
     },
     "execution_count": 4,
     "metadata": {},
     "output_type": "execute_result"
    }
   ],
   "source": [
    "netcdf_files"
   ]
  },
  {
   "cell_type": "code",
   "execution_count": 11,
   "metadata": {},
   "outputs": [],
   "source": [
    "import xarray as xr\n",
    "dry= xr.open_dataset(\"data\\\\19_duration_of_meteorological_droughts-reanalysis-yearly-grid-1940-2023-v1.0.nc\")\n",
    "hot= xr.open_dataset(\"data\\\\07_warmest_three_day_period-reanalysis-yearly-grid-1940-2023-v1.0.nc\")\n",
    "wind= xr.open_dataset(\"data\\\\24_extreme_wind_speed_days-reanalysis-yearly-grid-1940-2023-v1.0.nc\")\n",
    "\n"
   ]
  },
  {
   "cell_type": "code",
   "execution_count": 16,
   "metadata": {},
   "outputs": [
    {
     "data": {
      "text/html": [
       "<div><svg style=\"position: absolute; width: 0; height: 0; overflow: hidden\">\n",
       "<defs>\n",
       "<symbol id=\"icon-database\" viewBox=\"0 0 32 32\">\n",
       "<path d=\"M16 0c-8.837 0-16 2.239-16 5v4c0 2.761 7.163 5 16 5s16-2.239 16-5v-4c0-2.761-7.163-5-16-5z\"></path>\n",
       "<path d=\"M16 17c-8.837 0-16-2.239-16-5v6c0 2.761 7.163 5 16 5s16-2.239 16-5v-6c0 2.761-7.163 5-16 5z\"></path>\n",
       "<path d=\"M16 26c-8.837 0-16-2.239-16-5v6c0 2.761 7.163 5 16 5s16-2.239 16-5v-6c0 2.761-7.163 5-16 5z\"></path>\n",
       "</symbol>\n",
       "<symbol id=\"icon-file-text2\" viewBox=\"0 0 32 32\">\n",
       "<path d=\"M28.681 7.159c-0.694-0.947-1.662-2.053-2.724-3.116s-2.169-2.030-3.116-2.724c-1.612-1.182-2.393-1.319-2.841-1.319h-15.5c-1.378 0-2.5 1.121-2.5 2.5v27c0 1.378 1.122 2.5 2.5 2.5h23c1.378 0 2.5-1.122 2.5-2.5v-19.5c0-0.448-0.137-1.23-1.319-2.841zM24.543 5.457c0.959 0.959 1.712 1.825 2.268 2.543h-4.811v-4.811c0.718 0.556 1.584 1.309 2.543 2.268zM28 29.5c0 0.271-0.229 0.5-0.5 0.5h-23c-0.271 0-0.5-0.229-0.5-0.5v-27c0-0.271 0.229-0.5 0.5-0.5 0 0 15.499-0 15.5 0v7c0 0.552 0.448 1 1 1h7v19.5z\"></path>\n",
       "<path d=\"M23 26h-14c-0.552 0-1-0.448-1-1s0.448-1 1-1h14c0.552 0 1 0.448 1 1s-0.448 1-1 1z\"></path>\n",
       "<path d=\"M23 22h-14c-0.552 0-1-0.448-1-1s0.448-1 1-1h14c0.552 0 1 0.448 1 1s-0.448 1-1 1z\"></path>\n",
       "<path d=\"M23 18h-14c-0.552 0-1-0.448-1-1s0.448-1 1-1h14c0.552 0 1 0.448 1 1s-0.448 1-1 1z\"></path>\n",
       "</symbol>\n",
       "</defs>\n",
       "</svg>\n",
       "<style>/* CSS stylesheet for displaying xarray objects in jupyterlab.\n",
       " *\n",
       " */\n",
       "\n",
       ":root {\n",
       "  --xr-font-color0: var(--jp-content-font-color0, rgba(0, 0, 0, 1));\n",
       "  --xr-font-color2: var(--jp-content-font-color2, rgba(0, 0, 0, 0.54));\n",
       "  --xr-font-color3: var(--jp-content-font-color3, rgba(0, 0, 0, 0.38));\n",
       "  --xr-border-color: var(--jp-border-color2, #e0e0e0);\n",
       "  --xr-disabled-color: var(--jp-layout-color3, #bdbdbd);\n",
       "  --xr-background-color: var(--jp-layout-color0, white);\n",
       "  --xr-background-color-row-even: var(--jp-layout-color1, white);\n",
       "  --xr-background-color-row-odd: var(--jp-layout-color2, #eeeeee);\n",
       "}\n",
       "\n",
       "html[theme=\"dark\"],\n",
       "html[data-theme=\"dark\"],\n",
       "body[data-theme=\"dark\"],\n",
       "body.vscode-dark {\n",
       "  --xr-font-color0: rgba(255, 255, 255, 1);\n",
       "  --xr-font-color2: rgba(255, 255, 255, 0.54);\n",
       "  --xr-font-color3: rgba(255, 255, 255, 0.38);\n",
       "  --xr-border-color: #1f1f1f;\n",
       "  --xr-disabled-color: #515151;\n",
       "  --xr-background-color: #111111;\n",
       "  --xr-background-color-row-even: #111111;\n",
       "  --xr-background-color-row-odd: #313131;\n",
       "}\n",
       "\n",
       ".xr-wrap {\n",
       "  display: block !important;\n",
       "  min-width: 300px;\n",
       "  max-width: 700px;\n",
       "}\n",
       "\n",
       ".xr-text-repr-fallback {\n",
       "  /* fallback to plain text repr when CSS is not injected (untrusted notebook) */\n",
       "  display: none;\n",
       "}\n",
       "\n",
       ".xr-header {\n",
       "  padding-top: 6px;\n",
       "  padding-bottom: 6px;\n",
       "  margin-bottom: 4px;\n",
       "  border-bottom: solid 1px var(--xr-border-color);\n",
       "}\n",
       "\n",
       ".xr-header > div,\n",
       ".xr-header > ul {\n",
       "  display: inline;\n",
       "  margin-top: 0;\n",
       "  margin-bottom: 0;\n",
       "}\n",
       "\n",
       ".xr-obj-type,\n",
       ".xr-array-name {\n",
       "  margin-left: 2px;\n",
       "  margin-right: 10px;\n",
       "}\n",
       "\n",
       ".xr-obj-type {\n",
       "  color: var(--xr-font-color2);\n",
       "}\n",
       "\n",
       ".xr-sections {\n",
       "  padding-left: 0 !important;\n",
       "  display: grid;\n",
       "  grid-template-columns: 150px auto auto 1fr 0 20px 0 20px;\n",
       "}\n",
       "\n",
       ".xr-section-item {\n",
       "  display: contents;\n",
       "}\n",
       "\n",
       ".xr-section-item input {\n",
       "  display: inline-block;\n",
       "  opacity: 0;\n",
       "  height: 0;\n",
       "}\n",
       "\n",
       ".xr-section-item input + label {\n",
       "  color: var(--xr-disabled-color);\n",
       "}\n",
       "\n",
       ".xr-section-item input:enabled + label {\n",
       "  cursor: pointer;\n",
       "  color: var(--xr-font-color2);\n",
       "}\n",
       "\n",
       ".xr-section-item input:focus + label {\n",
       "  border: 2px solid var(--xr-font-color0);\n",
       "}\n",
       "\n",
       ".xr-section-item input:enabled + label:hover {\n",
       "  color: var(--xr-font-color0);\n",
       "}\n",
       "\n",
       ".xr-section-summary {\n",
       "  grid-column: 1;\n",
       "  color: var(--xr-font-color2);\n",
       "  font-weight: 500;\n",
       "}\n",
       "\n",
       ".xr-section-summary > span {\n",
       "  display: inline-block;\n",
       "  padding-left: 0.5em;\n",
       "}\n",
       "\n",
       ".xr-section-summary-in:disabled + label {\n",
       "  color: var(--xr-font-color2);\n",
       "}\n",
       "\n",
       ".xr-section-summary-in + label:before {\n",
       "  display: inline-block;\n",
       "  content: \"►\";\n",
       "  font-size: 11px;\n",
       "  width: 15px;\n",
       "  text-align: center;\n",
       "}\n",
       "\n",
       ".xr-section-summary-in:disabled + label:before {\n",
       "  color: var(--xr-disabled-color);\n",
       "}\n",
       "\n",
       ".xr-section-summary-in:checked + label:before {\n",
       "  content: \"▼\";\n",
       "}\n",
       "\n",
       ".xr-section-summary-in:checked + label > span {\n",
       "  display: none;\n",
       "}\n",
       "\n",
       ".xr-section-summary,\n",
       ".xr-section-inline-details {\n",
       "  padding-top: 4px;\n",
       "  padding-bottom: 4px;\n",
       "}\n",
       "\n",
       ".xr-section-inline-details {\n",
       "  grid-column: 2 / -1;\n",
       "}\n",
       "\n",
       ".xr-section-details {\n",
       "  display: none;\n",
       "  grid-column: 1 / -1;\n",
       "  margin-bottom: 5px;\n",
       "}\n",
       "\n",
       ".xr-section-summary-in:checked ~ .xr-section-details {\n",
       "  display: contents;\n",
       "}\n",
       "\n",
       ".xr-array-wrap {\n",
       "  grid-column: 1 / -1;\n",
       "  display: grid;\n",
       "  grid-template-columns: 20px auto;\n",
       "}\n",
       "\n",
       ".xr-array-wrap > label {\n",
       "  grid-column: 1;\n",
       "  vertical-align: top;\n",
       "}\n",
       "\n",
       ".xr-preview {\n",
       "  color: var(--xr-font-color3);\n",
       "}\n",
       "\n",
       ".xr-array-preview,\n",
       ".xr-array-data {\n",
       "  padding: 0 5px !important;\n",
       "  grid-column: 2;\n",
       "}\n",
       "\n",
       ".xr-array-data,\n",
       ".xr-array-in:checked ~ .xr-array-preview {\n",
       "  display: none;\n",
       "}\n",
       "\n",
       ".xr-array-in:checked ~ .xr-array-data,\n",
       ".xr-array-preview {\n",
       "  display: inline-block;\n",
       "}\n",
       "\n",
       ".xr-dim-list {\n",
       "  display: inline-block !important;\n",
       "  list-style: none;\n",
       "  padding: 0 !important;\n",
       "  margin: 0;\n",
       "}\n",
       "\n",
       ".xr-dim-list li {\n",
       "  display: inline-block;\n",
       "  padding: 0;\n",
       "  margin: 0;\n",
       "}\n",
       "\n",
       ".xr-dim-list:before {\n",
       "  content: \"(\";\n",
       "}\n",
       "\n",
       ".xr-dim-list:after {\n",
       "  content: \")\";\n",
       "}\n",
       "\n",
       ".xr-dim-list li:not(:last-child):after {\n",
       "  content: \",\";\n",
       "  padding-right: 5px;\n",
       "}\n",
       "\n",
       ".xr-has-index {\n",
       "  font-weight: bold;\n",
       "}\n",
       "\n",
       ".xr-var-list,\n",
       ".xr-var-item {\n",
       "  display: contents;\n",
       "}\n",
       "\n",
       ".xr-var-item > div,\n",
       ".xr-var-item label,\n",
       ".xr-var-item > .xr-var-name span {\n",
       "  background-color: var(--xr-background-color-row-even);\n",
       "  margin-bottom: 0;\n",
       "}\n",
       "\n",
       ".xr-var-item > .xr-var-name:hover span {\n",
       "  padding-right: 5px;\n",
       "}\n",
       "\n",
       ".xr-var-list > li:nth-child(odd) > div,\n",
       ".xr-var-list > li:nth-child(odd) > label,\n",
       ".xr-var-list > li:nth-child(odd) > .xr-var-name span {\n",
       "  background-color: var(--xr-background-color-row-odd);\n",
       "}\n",
       "\n",
       ".xr-var-name {\n",
       "  grid-column: 1;\n",
       "}\n",
       "\n",
       ".xr-var-dims {\n",
       "  grid-column: 2;\n",
       "}\n",
       "\n",
       ".xr-var-dtype {\n",
       "  grid-column: 3;\n",
       "  text-align: right;\n",
       "  color: var(--xr-font-color2);\n",
       "}\n",
       "\n",
       ".xr-var-preview {\n",
       "  grid-column: 4;\n",
       "}\n",
       "\n",
       ".xr-index-preview {\n",
       "  grid-column: 2 / 5;\n",
       "  color: var(--xr-font-color2);\n",
       "}\n",
       "\n",
       ".xr-var-name,\n",
       ".xr-var-dims,\n",
       ".xr-var-dtype,\n",
       ".xr-preview,\n",
       ".xr-attrs dt {\n",
       "  white-space: nowrap;\n",
       "  overflow: hidden;\n",
       "  text-overflow: ellipsis;\n",
       "  padding-right: 10px;\n",
       "}\n",
       "\n",
       ".xr-var-name:hover,\n",
       ".xr-var-dims:hover,\n",
       ".xr-var-dtype:hover,\n",
       ".xr-attrs dt:hover {\n",
       "  overflow: visible;\n",
       "  width: auto;\n",
       "  z-index: 1;\n",
       "}\n",
       "\n",
       ".xr-var-attrs,\n",
       ".xr-var-data,\n",
       ".xr-index-data {\n",
       "  display: none;\n",
       "  background-color: var(--xr-background-color) !important;\n",
       "  padding-bottom: 5px !important;\n",
       "}\n",
       "\n",
       ".xr-var-attrs-in:checked ~ .xr-var-attrs,\n",
       ".xr-var-data-in:checked ~ .xr-var-data,\n",
       ".xr-index-data-in:checked ~ .xr-index-data {\n",
       "  display: block;\n",
       "}\n",
       "\n",
       ".xr-var-data > table {\n",
       "  float: right;\n",
       "}\n",
       "\n",
       ".xr-var-name span,\n",
       ".xr-var-data,\n",
       ".xr-index-name div,\n",
       ".xr-index-data,\n",
       ".xr-attrs {\n",
       "  padding-left: 25px !important;\n",
       "}\n",
       "\n",
       ".xr-attrs,\n",
       ".xr-var-attrs,\n",
       ".xr-var-data,\n",
       ".xr-index-data {\n",
       "  grid-column: 1 / -1;\n",
       "}\n",
       "\n",
       "dl.xr-attrs {\n",
       "  padding: 0;\n",
       "  margin: 0;\n",
       "  display: grid;\n",
       "  grid-template-columns: 125px auto;\n",
       "}\n",
       "\n",
       ".xr-attrs dt,\n",
       ".xr-attrs dd {\n",
       "  padding: 0;\n",
       "  margin: 0;\n",
       "  float: left;\n",
       "  padding-right: 10px;\n",
       "  width: auto;\n",
       "}\n",
       "\n",
       ".xr-attrs dt {\n",
       "  font-weight: normal;\n",
       "  grid-column: 1;\n",
       "}\n",
       "\n",
       ".xr-attrs dt:hover span {\n",
       "  display: inline-block;\n",
       "  background: var(--xr-background-color);\n",
       "  padding-right: 10px;\n",
       "}\n",
       "\n",
       ".xr-attrs dd {\n",
       "  grid-column: 2;\n",
       "  white-space: pre-wrap;\n",
       "  word-break: break-all;\n",
       "}\n",
       "\n",
       ".xr-icon-database,\n",
       ".xr-icon-file-text2,\n",
       ".xr-no-icon {\n",
       "  display: inline-block;\n",
       "  vertical-align: middle;\n",
       "  width: 1em;\n",
       "  height: 1.5em !important;\n",
       "  stroke-width: 0;\n",
       "  stroke: currentColor;\n",
       "  fill: currentColor;\n",
       "}\n",
       "</style><pre class='xr-text-repr-fallback'>&lt;xarray.Dataset&gt; Size: 17MB\n",
       "Dimensions:      (time: 84, lat: 185, lon: 271)\n",
       "Coordinates:\n",
       "  * time         (time) datetime64[ns] 672B 1940-01-01 1941-01-01 ... 2023-01-01\n",
       "    realization  int64 8B ...\n",
       "  * lat          (lat) float64 1kB 26.5 26.75 27.0 27.25 ... 72.0 72.25 72.5\n",
       "  * lon          (lon) float64 2kB -22.0 -21.75 -21.5 -21.25 ... 45.0 45.25 45.5\n",
       "Data variables:\n",
       "    t2m          (time, lat, lon) float32 17MB ...</pre><div class='xr-wrap' style='display:none'><div class='xr-header'><div class='xr-obj-type'>xarray.Dataset</div></div><ul class='xr-sections'><li class='xr-section-item'><input id='section-aba4f55d-289c-479e-b201-a3a83bb97455' class='xr-section-summary-in' type='checkbox' disabled ><label for='section-aba4f55d-289c-479e-b201-a3a83bb97455' class='xr-section-summary'  title='Expand/collapse section'>Dimensions:</label><div class='xr-section-inline-details'><ul class='xr-dim-list'><li><span class='xr-has-index'>time</span>: 84</li><li><span class='xr-has-index'>lat</span>: 185</li><li><span class='xr-has-index'>lon</span>: 271</li></ul></div><div class='xr-section-details'></div></li><li class='xr-section-item'><input id='section-d207d852-540c-41e8-a563-59c9ec2ef8fd' class='xr-section-summary-in' type='checkbox'  checked><label for='section-d207d852-540c-41e8-a563-59c9ec2ef8fd' class='xr-section-summary' >Coordinates: <span>(4)</span></label><div class='xr-section-inline-details'></div><div class='xr-section-details'><ul class='xr-var-list'><li class='xr-var-item'><div class='xr-var-name'><span class='xr-has-index'>time</span></div><div class='xr-var-dims'>(time)</div><div class='xr-var-dtype'>datetime64[ns]</div><div class='xr-var-preview xr-preview'>1940-01-01 ... 2023-01-01</div><input id='attrs-a3867458-4b85-4d44-a922-50cb40490d63' class='xr-var-attrs-in' type='checkbox' ><label for='attrs-a3867458-4b85-4d44-a922-50cb40490d63' title='Show/Hide attributes'><svg class='icon xr-icon-file-text2'><use xlink:href='#icon-file-text2'></use></svg></label><input id='data-5b2e9b81-8d5a-4fdf-9bbb-d5169f40a998' class='xr-var-data-in' type='checkbox'><label for='data-5b2e9b81-8d5a-4fdf-9bbb-d5169f40a998' title='Show/Hide data repr'><svg class='icon xr-icon-database'><use xlink:href='#icon-database'></use></svg></label><div class='xr-var-attrs'><dl class='xr-attrs'><dt><span>long_name :</span></dt><dd>time</dd><dt><span>standard_name :</span></dt><dd>time</dd><dt><span>axis :</span></dt><dd>T</dd><dt><span>stored_direction :</span></dt><dd>increasing</dd><dt><span>type :</span></dt><dd>double</dd></dl></div><div class='xr-var-data'><pre>array([&#x27;1940-01-01T00:00:00.000000000&#x27;, &#x27;1941-01-01T00:00:00.000000000&#x27;,\n",
       "       &#x27;1942-01-01T00:00:00.000000000&#x27;, &#x27;1943-01-01T00:00:00.000000000&#x27;,\n",
       "       &#x27;1944-01-01T00:00:00.000000000&#x27;, &#x27;1945-01-01T00:00:00.000000000&#x27;,\n",
       "       &#x27;1946-01-01T00:00:00.000000000&#x27;, &#x27;1947-01-01T00:00:00.000000000&#x27;,\n",
       "       &#x27;1948-01-01T00:00:00.000000000&#x27;, &#x27;1949-01-01T00:00:00.000000000&#x27;,\n",
       "       &#x27;1950-01-01T00:00:00.000000000&#x27;, &#x27;1951-01-01T00:00:00.000000000&#x27;,\n",
       "       &#x27;1952-01-01T00:00:00.000000000&#x27;, &#x27;1953-01-01T00:00:00.000000000&#x27;,\n",
       "       &#x27;1954-01-01T00:00:00.000000000&#x27;, &#x27;1955-01-01T00:00:00.000000000&#x27;,\n",
       "       &#x27;1956-01-01T00:00:00.000000000&#x27;, &#x27;1957-01-01T00:00:00.000000000&#x27;,\n",
       "       &#x27;1958-01-01T00:00:00.000000000&#x27;, &#x27;1959-01-01T00:00:00.000000000&#x27;,\n",
       "       &#x27;1960-01-01T00:00:00.000000000&#x27;, &#x27;1961-01-01T00:00:00.000000000&#x27;,\n",
       "       &#x27;1962-01-01T00:00:00.000000000&#x27;, &#x27;1963-01-01T00:00:00.000000000&#x27;,\n",
       "       &#x27;1964-01-01T00:00:00.000000000&#x27;, &#x27;1965-01-01T00:00:00.000000000&#x27;,\n",
       "       &#x27;1966-01-01T00:00:00.000000000&#x27;, &#x27;1967-01-01T00:00:00.000000000&#x27;,\n",
       "       &#x27;1968-01-01T00:00:00.000000000&#x27;, &#x27;1969-01-01T00:00:00.000000000&#x27;,\n",
       "       &#x27;1970-01-01T00:00:00.000000000&#x27;, &#x27;1971-01-01T00:00:00.000000000&#x27;,\n",
       "       &#x27;1972-01-01T00:00:00.000000000&#x27;, &#x27;1973-01-01T00:00:00.000000000&#x27;,\n",
       "       &#x27;1974-01-01T00:00:00.000000000&#x27;, &#x27;1975-01-01T00:00:00.000000000&#x27;,\n",
       "       &#x27;1976-01-01T00:00:00.000000000&#x27;, &#x27;1977-01-01T00:00:00.000000000&#x27;,\n",
       "       &#x27;1978-01-01T00:00:00.000000000&#x27;, &#x27;1979-01-01T00:00:00.000000000&#x27;,\n",
       "       &#x27;1980-01-01T00:00:00.000000000&#x27;, &#x27;1981-01-01T00:00:00.000000000&#x27;,\n",
       "       &#x27;1982-01-01T00:00:00.000000000&#x27;, &#x27;1983-01-01T00:00:00.000000000&#x27;,\n",
       "       &#x27;1984-01-01T00:00:00.000000000&#x27;, &#x27;1985-01-01T00:00:00.000000000&#x27;,\n",
       "       &#x27;1986-01-01T00:00:00.000000000&#x27;, &#x27;1987-01-01T00:00:00.000000000&#x27;,\n",
       "       &#x27;1988-01-01T00:00:00.000000000&#x27;, &#x27;1989-01-01T00:00:00.000000000&#x27;,\n",
       "       &#x27;1990-01-01T00:00:00.000000000&#x27;, &#x27;1991-01-01T00:00:00.000000000&#x27;,\n",
       "       &#x27;1992-01-01T00:00:00.000000000&#x27;, &#x27;1993-01-01T00:00:00.000000000&#x27;,\n",
       "       &#x27;1994-01-01T00:00:00.000000000&#x27;, &#x27;1995-01-01T00:00:00.000000000&#x27;,\n",
       "       &#x27;1996-01-01T00:00:00.000000000&#x27;, &#x27;1997-01-01T00:00:00.000000000&#x27;,\n",
       "       &#x27;1998-01-01T00:00:00.000000000&#x27;, &#x27;1999-01-01T00:00:00.000000000&#x27;,\n",
       "       &#x27;2000-01-01T00:00:00.000000000&#x27;, &#x27;2001-01-01T00:00:00.000000000&#x27;,\n",
       "       &#x27;2002-01-01T00:00:00.000000000&#x27;, &#x27;2003-01-01T00:00:00.000000000&#x27;,\n",
       "       &#x27;2004-01-01T00:00:00.000000000&#x27;, &#x27;2005-01-01T00:00:00.000000000&#x27;,\n",
       "       &#x27;2006-01-01T00:00:00.000000000&#x27;, &#x27;2007-01-01T00:00:00.000000000&#x27;,\n",
       "       &#x27;2008-01-01T00:00:00.000000000&#x27;, &#x27;2009-01-01T00:00:00.000000000&#x27;,\n",
       "       &#x27;2010-01-01T00:00:00.000000000&#x27;, &#x27;2011-01-01T00:00:00.000000000&#x27;,\n",
       "       &#x27;2012-01-01T00:00:00.000000000&#x27;, &#x27;2013-01-01T00:00:00.000000000&#x27;,\n",
       "       &#x27;2014-01-01T00:00:00.000000000&#x27;, &#x27;2015-01-01T00:00:00.000000000&#x27;,\n",
       "       &#x27;2016-01-01T00:00:00.000000000&#x27;, &#x27;2017-01-01T00:00:00.000000000&#x27;,\n",
       "       &#x27;2018-01-01T00:00:00.000000000&#x27;, &#x27;2019-01-01T00:00:00.000000000&#x27;,\n",
       "       &#x27;2020-01-01T00:00:00.000000000&#x27;, &#x27;2021-01-01T00:00:00.000000000&#x27;,\n",
       "       &#x27;2022-01-01T00:00:00.000000000&#x27;, &#x27;2023-01-01T00:00:00.000000000&#x27;],\n",
       "      dtype=&#x27;datetime64[ns]&#x27;)</pre></div></li><li class='xr-var-item'><div class='xr-var-name'><span>realization</span></div><div class='xr-var-dims'>()</div><div class='xr-var-dtype'>int64</div><div class='xr-var-preview xr-preview'>...</div><input id='attrs-cb09fab0-d534-4c28-a186-85187b5f0e02' class='xr-var-attrs-in' type='checkbox' ><label for='attrs-cb09fab0-d534-4c28-a186-85187b5f0e02' title='Show/Hide attributes'><svg class='icon xr-icon-file-text2'><use xlink:href='#icon-file-text2'></use></svg></label><input id='data-db41e68d-7421-4284-a616-83606846356b' class='xr-var-data-in' type='checkbox'><label for='data-db41e68d-7421-4284-a616-83606846356b' title='Show/Hide data repr'><svg class='icon xr-icon-database'><use xlink:href='#icon-database'></use></svg></label><div class='xr-var-attrs'><dl class='xr-attrs'><dt><span>long_name :</span></dt><dd>realization</dd><dt><span>units :</span></dt><dd>1</dd><dt><span>standard_name :</span></dt><dd>realization</dd><dt><span>stored_direction :</span></dt><dd>increasing</dd><dt><span>type :</span></dt><dd>integer</dd></dl></div><div class='xr-var-data'><pre>[1 values with dtype=int64]</pre></div></li><li class='xr-var-item'><div class='xr-var-name'><span class='xr-has-index'>lat</span></div><div class='xr-var-dims'>(lat)</div><div class='xr-var-dtype'>float64</div><div class='xr-var-preview xr-preview'>26.5 26.75 27.0 ... 72.0 72.25 72.5</div><input id='attrs-f87aec79-d6c6-4f61-8cbf-3830f876f23d' class='xr-var-attrs-in' type='checkbox' ><label for='attrs-f87aec79-d6c6-4f61-8cbf-3830f876f23d' title='Show/Hide attributes'><svg class='icon xr-icon-file-text2'><use xlink:href='#icon-file-text2'></use></svg></label><input id='data-7506d567-8246-4304-b722-8e6278590618' class='xr-var-data-in' type='checkbox'><label for='data-7506d567-8246-4304-b722-8e6278590618' title='Show/Hide data repr'><svg class='icon xr-icon-database'><use xlink:href='#icon-database'></use></svg></label><div class='xr-var-attrs'><dl class='xr-attrs'><dt><span>units :</span></dt><dd>degrees_north</dd><dt><span>standard_name :</span></dt><dd>latitude</dd><dt><span>long_name :</span></dt><dd>latitude</dd><dt><span>stored_direction :</span></dt><dd>decreasing</dd><dt><span>axis :</span></dt><dd>Y</dd><dt><span>positive :</span></dt><dd>up</dd><dt><span>type :</span></dt><dd>double</dd><dt><span>valid_max :</span></dt><dd>90.0</dd><dt><span>valid_min :</span></dt><dd>-90.0</dd></dl></div><div class='xr-var-data'><pre>array([26.5 , 26.75, 27.  , 27.25, 27.5 , 27.75, 28.  , 28.25, 28.5 , 28.75,\n",
       "       29.  , 29.25, 29.5 , 29.75, 30.  , 30.25, 30.5 , 30.75, 31.  , 31.25,\n",
       "       31.5 , 31.75, 32.  , 32.25, 32.5 , 32.75, 33.  , 33.25, 33.5 , 33.75,\n",
       "       34.  , 34.25, 34.5 , 34.75, 35.  , 35.25, 35.5 , 35.75, 36.  , 36.25,\n",
       "       36.5 , 36.75, 37.  , 37.25, 37.5 , 37.75, 38.  , 38.25, 38.5 , 38.75,\n",
       "       39.  , 39.25, 39.5 , 39.75, 40.  , 40.25, 40.5 , 40.75, 41.  , 41.25,\n",
       "       41.5 , 41.75, 42.  , 42.25, 42.5 , 42.75, 43.  , 43.25, 43.5 , 43.75,\n",
       "       44.  , 44.25, 44.5 , 44.75, 45.  , 45.25, 45.5 , 45.75, 46.  , 46.25,\n",
       "       46.5 , 46.75, 47.  , 47.25, 47.5 , 47.75, 48.  , 48.25, 48.5 , 48.75,\n",
       "       49.  , 49.25, 49.5 , 49.75, 50.  , 50.25, 50.5 , 50.75, 51.  , 51.25,\n",
       "       51.5 , 51.75, 52.  , 52.25, 52.5 , 52.75, 53.  , 53.25, 53.5 , 53.75,\n",
       "       54.  , 54.25, 54.5 , 54.75, 55.  , 55.25, 55.5 , 55.75, 56.  , 56.25,\n",
       "       56.5 , 56.75, 57.  , 57.25, 57.5 , 57.75, 58.  , 58.25, 58.5 , 58.75,\n",
       "       59.  , 59.25, 59.5 , 59.75, 60.  , 60.25, 60.5 , 60.75, 61.  , 61.25,\n",
       "       61.5 , 61.75, 62.  , 62.25, 62.5 , 62.75, 63.  , 63.25, 63.5 , 63.75,\n",
       "       64.  , 64.25, 64.5 , 64.75, 65.  , 65.25, 65.5 , 65.75, 66.  , 66.25,\n",
       "       66.5 , 66.75, 67.  , 67.25, 67.5 , 67.75, 68.  , 68.25, 68.5 , 68.75,\n",
       "       69.  , 69.25, 69.5 , 69.75, 70.  , 70.25, 70.5 , 70.75, 71.  , 71.25,\n",
       "       71.5 , 71.75, 72.  , 72.25, 72.5 ])</pre></div></li><li class='xr-var-item'><div class='xr-var-name'><span class='xr-has-index'>lon</span></div><div class='xr-var-dims'>(lon)</div><div class='xr-var-dtype'>float64</div><div class='xr-var-preview xr-preview'>-22.0 -21.75 -21.5 ... 45.25 45.5</div><input id='attrs-314910c6-c220-427f-a2fb-43fd2fce5b1e' class='xr-var-attrs-in' type='checkbox' ><label for='attrs-314910c6-c220-427f-a2fb-43fd2fce5b1e' title='Show/Hide attributes'><svg class='icon xr-icon-file-text2'><use xlink:href='#icon-file-text2'></use></svg></label><input id='data-b280045f-1878-40da-a6cc-5f4e8e5e9c4e' class='xr-var-data-in' type='checkbox'><label for='data-b280045f-1878-40da-a6cc-5f4e8e5e9c4e' title='Show/Hide data repr'><svg class='icon xr-icon-database'><use xlink:href='#icon-database'></use></svg></label><div class='xr-var-attrs'><dl class='xr-attrs'><dt><span>units :</span></dt><dd>degrees_east</dd><dt><span>standard_name :</span></dt><dd>longitude</dd><dt><span>long_name :</span></dt><dd>longitude</dd><dt><span>axis :</span></dt><dd>X</dd><dt><span>positive :</span></dt><dd>up</dd><dt><span>type :</span></dt><dd>double</dd><dt><span>valid_max :</span></dt><dd>360.0</dd><dt><span>valid_min :</span></dt><dd>-180.0</dd></dl></div><div class='xr-var-data'><pre>array([-22.  , -21.75, -21.5 , ...,  45.  ,  45.25,  45.5 ])</pre></div></li></ul></div></li><li class='xr-section-item'><input id='section-7f355979-27a7-4727-a6b8-e92c1b14ad57' class='xr-section-summary-in' type='checkbox'  checked><label for='section-7f355979-27a7-4727-a6b8-e92c1b14ad57' class='xr-section-summary' >Data variables: <span>(1)</span></label><div class='xr-section-inline-details'></div><div class='xr-section-details'><ul class='xr-var-list'><li class='xr-var-item'><div class='xr-var-name'><span>t2m</span></div><div class='xr-var-dims'>(time, lat, lon)</div><div class='xr-var-dtype'>float32</div><div class='xr-var-preview xr-preview'>...</div><input id='attrs-b9292ccb-c444-4641-976c-98c96ef47cea' class='xr-var-attrs-in' type='checkbox' ><label for='attrs-b9292ccb-c444-4641-976c-98c96ef47cea' title='Show/Hide attributes'><svg class='icon xr-icon-file-text2'><use xlink:href='#icon-file-text2'></use></svg></label><input id='data-9883e8f0-62b0-4416-994d-a168fb25a27d' class='xr-var-data-in' type='checkbox'><label for='data-9883e8f0-62b0-4416-994d-a168fb25a27d' title='Show/Hide data repr'><svg class='icon xr-icon-database'><use xlink:href='#icon-database'></use></svg></label><div class='xr-var-attrs'><dl class='xr-attrs'><dt><span>units :</span></dt><dd>K</dd><dt><span>comment :</span></dt><dd>derived from 3 hourly ERA5 reanalysis</dd></dl></div><div class='xr-var-data'><pre>[4211340 values with dtype=float32]</pre></div></li></ul></div></li><li class='xr-section-item'><input id='section-d7c75cd3-5706-4fc4-893d-d96faaf12fbf' class='xr-section-summary-in' type='checkbox'  ><label for='section-d7c75cd3-5706-4fc4-893d-d96faaf12fbf' class='xr-section-summary' >Indexes: <span>(3)</span></label><div class='xr-section-inline-details'></div><div class='xr-section-details'><ul class='xr-var-list'><li class='xr-var-item'><div class='xr-index-name'><div>time</div></div><div class='xr-index-preview'>PandasIndex</div><input type='checkbox' disabled/><label></label><input id='index-1eb07783-fb61-4d29-9349-b0a2c4ba571c' class='xr-index-data-in' type='checkbox'/><label for='index-1eb07783-fb61-4d29-9349-b0a2c4ba571c' title='Show/Hide index repr'><svg class='icon xr-icon-database'><use xlink:href='#icon-database'></use></svg></label><div class='xr-index-data'><pre>PandasIndex(DatetimeIndex([&#x27;1940-01-01&#x27;, &#x27;1941-01-01&#x27;, &#x27;1942-01-01&#x27;, &#x27;1943-01-01&#x27;,\n",
       "               &#x27;1944-01-01&#x27;, &#x27;1945-01-01&#x27;, &#x27;1946-01-01&#x27;, &#x27;1947-01-01&#x27;,\n",
       "               &#x27;1948-01-01&#x27;, &#x27;1949-01-01&#x27;, &#x27;1950-01-01&#x27;, &#x27;1951-01-01&#x27;,\n",
       "               &#x27;1952-01-01&#x27;, &#x27;1953-01-01&#x27;, &#x27;1954-01-01&#x27;, &#x27;1955-01-01&#x27;,\n",
       "               &#x27;1956-01-01&#x27;, &#x27;1957-01-01&#x27;, &#x27;1958-01-01&#x27;, &#x27;1959-01-01&#x27;,\n",
       "               &#x27;1960-01-01&#x27;, &#x27;1961-01-01&#x27;, &#x27;1962-01-01&#x27;, &#x27;1963-01-01&#x27;,\n",
       "               &#x27;1964-01-01&#x27;, &#x27;1965-01-01&#x27;, &#x27;1966-01-01&#x27;, &#x27;1967-01-01&#x27;,\n",
       "               &#x27;1968-01-01&#x27;, &#x27;1969-01-01&#x27;, &#x27;1970-01-01&#x27;, &#x27;1971-01-01&#x27;,\n",
       "               &#x27;1972-01-01&#x27;, &#x27;1973-01-01&#x27;, &#x27;1974-01-01&#x27;, &#x27;1975-01-01&#x27;,\n",
       "               &#x27;1976-01-01&#x27;, &#x27;1977-01-01&#x27;, &#x27;1978-01-01&#x27;, &#x27;1979-01-01&#x27;,\n",
       "               &#x27;1980-01-01&#x27;, &#x27;1981-01-01&#x27;, &#x27;1982-01-01&#x27;, &#x27;1983-01-01&#x27;,\n",
       "               &#x27;1984-01-01&#x27;, &#x27;1985-01-01&#x27;, &#x27;1986-01-01&#x27;, &#x27;1987-01-01&#x27;,\n",
       "               &#x27;1988-01-01&#x27;, &#x27;1989-01-01&#x27;, &#x27;1990-01-01&#x27;, &#x27;1991-01-01&#x27;,\n",
       "               &#x27;1992-01-01&#x27;, &#x27;1993-01-01&#x27;, &#x27;1994-01-01&#x27;, &#x27;1995-01-01&#x27;,\n",
       "               &#x27;1996-01-01&#x27;, &#x27;1997-01-01&#x27;, &#x27;1998-01-01&#x27;, &#x27;1999-01-01&#x27;,\n",
       "               &#x27;2000-01-01&#x27;, &#x27;2001-01-01&#x27;, &#x27;2002-01-01&#x27;, &#x27;2003-01-01&#x27;,\n",
       "               &#x27;2004-01-01&#x27;, &#x27;2005-01-01&#x27;, &#x27;2006-01-01&#x27;, &#x27;2007-01-01&#x27;,\n",
       "               &#x27;2008-01-01&#x27;, &#x27;2009-01-01&#x27;, &#x27;2010-01-01&#x27;, &#x27;2011-01-01&#x27;,\n",
       "               &#x27;2012-01-01&#x27;, &#x27;2013-01-01&#x27;, &#x27;2014-01-01&#x27;, &#x27;2015-01-01&#x27;,\n",
       "               &#x27;2016-01-01&#x27;, &#x27;2017-01-01&#x27;, &#x27;2018-01-01&#x27;, &#x27;2019-01-01&#x27;,\n",
       "               &#x27;2020-01-01&#x27;, &#x27;2021-01-01&#x27;, &#x27;2022-01-01&#x27;, &#x27;2023-01-01&#x27;],\n",
       "              dtype=&#x27;datetime64[ns]&#x27;, name=&#x27;time&#x27;, freq=None))</pre></div></li><li class='xr-var-item'><div class='xr-index-name'><div>lat</div></div><div class='xr-index-preview'>PandasIndex</div><input type='checkbox' disabled/><label></label><input id='index-27668f96-960e-4cdb-bb95-2f0675f68def' class='xr-index-data-in' type='checkbox'/><label for='index-27668f96-960e-4cdb-bb95-2f0675f68def' title='Show/Hide index repr'><svg class='icon xr-icon-database'><use xlink:href='#icon-database'></use></svg></label><div class='xr-index-data'><pre>PandasIndex(Index([ 26.5, 26.75,  27.0, 27.25,  27.5, 27.75,  28.0, 28.25,  28.5, 28.75,\n",
       "       ...\n",
       "       70.25,  70.5, 70.75,  71.0, 71.25,  71.5, 71.75,  72.0, 72.25,  72.5],\n",
       "      dtype=&#x27;float64&#x27;, name=&#x27;lat&#x27;, length=185))</pre></div></li><li class='xr-var-item'><div class='xr-index-name'><div>lon</div></div><div class='xr-index-preview'>PandasIndex</div><input type='checkbox' disabled/><label></label><input id='index-95f8af2d-923f-469e-8d26-96e5b000aa97' class='xr-index-data-in' type='checkbox'/><label for='index-95f8af2d-923f-469e-8d26-96e5b000aa97' title='Show/Hide index repr'><svg class='icon xr-icon-database'><use xlink:href='#icon-database'></use></svg></label><div class='xr-index-data'><pre>PandasIndex(Index([ -22.0, -21.75,  -21.5, -21.25,  -21.0, -20.75,  -20.5, -20.25,  -20.0,\n",
       "       -19.75,\n",
       "       ...\n",
       "        43.25,   43.5,  43.75,   44.0,  44.25,   44.5,  44.75,   45.0,  45.25,\n",
       "         45.5],\n",
       "      dtype=&#x27;float64&#x27;, name=&#x27;lon&#x27;, length=271))</pre></div></li></ul></div></li><li class='xr-section-item'><input id='section-fd74e017-8b01-46ba-9528-927637f0f42e' class='xr-section-summary-in' type='checkbox' disabled ><label for='section-fd74e017-8b01-46ba-9528-927637f0f42e' class='xr-section-summary'  title='Expand/collapse section'>Attributes: <span>(0)</span></label><div class='xr-section-inline-details'></div><div class='xr-section-details'><dl class='xr-attrs'></dl></div></li></ul></div></div>"
      ],
      "text/plain": [
       "<xarray.Dataset> Size: 17MB\n",
       "Dimensions:      (time: 84, lat: 185, lon: 271)\n",
       "Coordinates:\n",
       "  * time         (time) datetime64[ns] 672B 1940-01-01 1941-01-01 ... 2023-01-01\n",
       "    realization  int64 8B ...\n",
       "  * lat          (lat) float64 1kB 26.5 26.75 27.0 27.25 ... 72.0 72.25 72.5\n",
       "  * lon          (lon) float64 2kB -22.0 -21.75 -21.5 -21.25 ... 45.0 45.25 45.5\n",
       "Data variables:\n",
       "    t2m          (time, lat, lon) float32 17MB ..."
      ]
     },
     "execution_count": 16,
     "metadata": {},
     "output_type": "execute_result"
    }
   ],
   "source": [
    "hot"
   ]
  },
  {
   "cell_type": "markdown",
   "metadata": {},
   "source": [
    "# Copule multivarié"
   ]
  },
  {
   "cell_type": "code",
   "execution_count": 113,
   "metadata": {},
   "outputs": [],
   "source": [
    "lat_sel = 43\n",
    "lon_sel = 0\n",
    "\n",
    "dry_data = dry['dmd']\n",
    "hot_data = hot['t2m']\n",
    "wind_data = wind['data']\n",
    "\n",
    "# Fusionner les datasets sur les dimensions communes (time, lat, lon)\n",
    "combined = xr.merge([dry_data.rename('dry'), \n",
    "                     hot_data.rename('hot'), \n",
    "                     wind_data.rename('wind')])\n",
    "\n",
    "# Extraire les données pour cette localisation (utilise l'indexation la plus proche)\n",
    "location_data = combined.sel(lat=lat_sel, lon=lon_sel, method=\"nearest\")\n",
    "\n",
    "# Convertir en DataFrame avec les années comme index\n",
    "df = location_data.to_dataframe().reset_index()\n",
    "\n",
    "# Garde uniquement les colonnes qui nous intéressent\n",
    "df = df[['time', 'dry', 'hot', 'wind']]\n",
    "\n",
    "# Optionnel : convertir 'time' en année si tu préfères\n",
    "df['year'] = df['time'].dt.year\n",
    "df = df.drop(columns='time')\n",
    "\n",
    "# Réorganiser les colonnes\n",
    "df = df[['year', 'dry', 'hot', 'wind']]\n"
   ]
  },
  {
   "cell_type": "code",
   "execution_count": 114,
   "metadata": {},
   "outputs": [],
   "source": [
    "def uniformize_data(df, columns):\n",
    "    \"\"\"\n",
    "    Transforme chaque colonne du DataFrame en pseudo-observations uniformes [0,1]\n",
    "    Utilisé pour ajuster une copule.\n",
    "\n",
    "    Args:\n",
    "        df (pd.DataFrame): DataFrame contenant les colonnes à transformer.\n",
    "        columns (list): Liste des noms de colonnes à transformer.\n",
    "\n",
    "    Returns:\n",
    "        np.ndarray: Tableau numpy transformé (n, d)\n",
    "    \"\"\"\n",
    "    n = len(df)\n",
    "    u = np.zeros((n, len(columns)))\n",
    "\n",
    "    for i, col in enumerate(columns):\n",
    "        ranks = df[col].rank(method='average')  # méthode 'average' pour être stable\n",
    "        u[:, i] = ranks / (n + 1)  # normalisation sur [0,1]\n",
    "\n",
    "    return u\n",
    "\n",
    "# Exemple d’utilisation :\n",
    "columns = ['dry', 'hot', 'wind']\n",
    "df_normalized =pd.DataFrame(uniformize_data(df, columns), columns=columns)\n"
   ]
  },
  {
   "cell_type": "code",
   "execution_count": 115,
   "metadata": {},
   "outputs": [
    {
     "data": {
      "text/html": [
       "<div>\n",
       "<style scoped>\n",
       "    .dataframe tbody tr th:only-of-type {\n",
       "        vertical-align: middle;\n",
       "    }\n",
       "\n",
       "    .dataframe tbody tr th {\n",
       "        vertical-align: top;\n",
       "    }\n",
       "\n",
       "    .dataframe thead th {\n",
       "        text-align: right;\n",
       "    }\n",
       "</style>\n",
       "<table border=\"1\" class=\"dataframe\">\n",
       "  <thead>\n",
       "    <tr style=\"text-align: right;\">\n",
       "      <th></th>\n",
       "      <th>dry</th>\n",
       "      <th>hot</th>\n",
       "      <th>wind</th>\n",
       "    </tr>\n",
       "  </thead>\n",
       "  <tbody>\n",
       "    <tr>\n",
       "      <th>0</th>\n",
       "      <td>0.211765</td>\n",
       "      <td>0.176471</td>\n",
       "      <td>0.376471</td>\n",
       "    </tr>\n",
       "    <tr>\n",
       "      <th>1</th>\n",
       "      <td>0.870588</td>\n",
       "      <td>0.988235</td>\n",
       "      <td>0.905882</td>\n",
       "    </tr>\n",
       "    <tr>\n",
       "      <th>2</th>\n",
       "      <td>0.935294</td>\n",
       "      <td>0.705882</td>\n",
       "      <td>0.147059</td>\n",
       "    </tr>\n",
       "    <tr>\n",
       "      <th>3</th>\n",
       "      <td>0.841176</td>\n",
       "      <td>0.435294</td>\n",
       "      <td>0.147059</td>\n",
       "    </tr>\n",
       "    <tr>\n",
       "      <th>4</th>\n",
       "      <td>0.935294</td>\n",
       "      <td>0.505882</td>\n",
       "      <td>0.241176</td>\n",
       "    </tr>\n",
       "    <tr>\n",
       "      <th>...</th>\n",
       "      <td>...</td>\n",
       "      <td>...</td>\n",
       "      <td>...</td>\n",
       "    </tr>\n",
       "    <tr>\n",
       "      <th>79</th>\n",
       "      <td>0.723529</td>\n",
       "      <td>0.952941</td>\n",
       "      <td>0.970588</td>\n",
       "    </tr>\n",
       "    <tr>\n",
       "      <th>80</th>\n",
       "      <td>0.211765</td>\n",
       "      <td>0.905882</td>\n",
       "      <td>0.558824</td>\n",
       "    </tr>\n",
       "    <tr>\n",
       "      <th>81</th>\n",
       "      <td>0.552941</td>\n",
       "      <td>0.835294</td>\n",
       "      <td>0.241176</td>\n",
       "    </tr>\n",
       "    <tr>\n",
       "      <th>82</th>\n",
       "      <td>0.211765</td>\n",
       "      <td>0.964706</td>\n",
       "      <td>0.558824</td>\n",
       "    </tr>\n",
       "    <tr>\n",
       "      <th>83</th>\n",
       "      <td>0.452941</td>\n",
       "      <td>0.929412</td>\n",
       "      <td>0.847059</td>\n",
       "    </tr>\n",
       "  </tbody>\n",
       "</table>\n",
       "<p>84 rows × 3 columns</p>\n",
       "</div>"
      ],
      "text/plain": [
       "         dry       hot      wind\n",
       "0   0.211765  0.176471  0.376471\n",
       "1   0.870588  0.988235  0.905882\n",
       "2   0.935294  0.705882  0.147059\n",
       "3   0.841176  0.435294  0.147059\n",
       "4   0.935294  0.505882  0.241176\n",
       "..       ...       ...       ...\n",
       "79  0.723529  0.952941  0.970588\n",
       "80  0.211765  0.905882  0.558824\n",
       "81  0.552941  0.835294  0.241176\n",
       "82  0.211765  0.964706  0.558824\n",
       "83  0.452941  0.929412  0.847059\n",
       "\n",
       "[84 rows x 3 columns]"
      ]
     },
     "execution_count": 115,
     "metadata": {},
     "output_type": "execute_result"
    }
   ],
   "source": [
    "df_normalized"
   ]
  },
  {
   "cell_type": "code",
   "execution_count": 132,
   "metadata": {},
   "outputs": [
    {
     "name": "stderr",
     "output_type": "stream",
     "text": [
      "c:\\Users\\lucas\\OneDrive\\Documents\\M2 MSOEF\\Data mining\\projet kaggle\\.venv\\lib\\site-packages\\copulas\\multivariate\\vine.py:78: UserWarning:\n",
      "\n",
      "Vines have not been fully tested on Python >= 3.8 and might produce wrong results.\n",
      "\n",
      "c:\\Users\\lucas\\OneDrive\\Documents\\M2 MSOEF\\Data mining\\projet kaggle\\.venv\\lib\\site-packages\\copulas\\bivariate\\base.py:163: RuntimeWarning:\n",
      "\n",
      "Data does not appear to be uniform.\n",
      "\n"
     ]
    }
   ],
   "source": [
    "\n",
    "copula = VineCopula(\"center\")\n",
    "copula.fit(df_normalized)\n",
    "synthetic_data = copula.sample(len(df_normalized))"
   ]
  },
  {
   "cell_type": "code",
   "execution_count": 133,
   "metadata": {},
   "outputs": [
    {
     "data": {
      "text/plain": [
       "dict_keys(['type', 'vine_type', 'fitted', 'n_sample', 'n_var', 'depth', 'truncated', 'trees', 'tau_mat', 'u_matrix', 'unis', 'columns'])"
      ]
     },
     "execution_count": 133,
     "metadata": {},
     "output_type": "execute_result"
    }
   ],
   "source": [
    "copula_params = copula.to_dict()\n",
    "copula_params.keys()"
   ]
  },
  {
   "cell_type": "code",
   "execution_count": 134,
   "metadata": {},
   "outputs": [
    {
     "data": {
      "image/png": "[encoded data removed]",
      "text/plain": [
       "<Figure size 640x480 with 2 Axes>"
      ]
     },
     "metadata": {},
     "output_type": "display_data"
    }
   ],
   "source": [
    "import seaborn as sns\n",
    "import matplotlib.pyplot as plt\n",
    "import numpy as np\n",
    "import pandas as pd\n",
    "\n",
    "tau_mat = np.array(copula_params['tau_mat'])\n",
    "labels = ['dry', 'hot', 'wind']\n",
    "\n",
    "sns.heatmap(tau_mat, annot=True, xticklabels=labels, yticklabels=labels, cmap='coolwarm', center=0)\n",
    "plt.title(\"Matrice de dépendance (Kendall's τ)\")\n",
    "plt.show()\n"
   ]
  },
  {
   "cell_type": "code",
   "execution_count": 119,
   "metadata": {},
   "outputs": [
    {
     "data": {
      "text/plain": [
       "'copulas.multivariate.vine.VineCopula'"
      ]
     },
     "execution_count": 119,
     "metadata": {},
     "output_type": "execute_result"
    }
   ],
   "source": [
    "copula_params['type']"
   ]
  },
  {
   "cell_type": "code",
   "execution_count": 123,
   "metadata": {},
   "outputs": [
    {
     "data": {
      "application/vnd.plotly.v1+json": {
       "config": {
        "plotlyServerURL": "https://plot.ly"
       },
       "data": [
        {
         "hovertemplate": "Data=Real<br>dry=%{x}<br>hot=%{y}<br>wind=%{z}<extra></extra>",
         "legendgroup": "Real",
         "marker": {
          "color": "#000036",
          "size": 5,
          "symbol": "circle"
         },
         "mode": "markers",
         "name": "Real",
         "scene": "scene",
         "showlegend": true,
         "type": "scatter3d",
         "x": [
          0.21176470588235294,
          0.8705882352941177,
          0.9352941176470588,
          0.8411764705882353,
          0.9352941176470588,
          0.7235294117647059,
          0.21176470588235294,
          0.21176470588235294,
          0.5529411764705883,
          0.9647058823529412,
          0.7235294117647059,
          0.21176470588235294,
          0.9058823529411765,
          0.9882352941176471,
          0.5529411764705883,
          0.5529411764705883,
          0.21176470588235294,
          0.9647058823529412,
          0.5529411764705883,
          0.21176470588235294,
          0.7235294117647059,
          0.21176470588235294,
          0.9058823529411765,
          0.8411764705882353,
          0.7235294117647059,
          0.7235294117647059,
          0.21176470588235294,
          0.7235294117647059,
          0.21176470588235294,
          0.21176470588235294,
          0.45294117647058824,
          0.45294117647058824,
          0.21176470588235294,
          0.5529411764705883,
          0.21176470588235294,
          0.21176470588235294,
          0.8705882352941177,
          0.21176470588235294,
          0.7235294117647059,
          0.21176470588235294,
          0.21176470588235294,
          0.21176470588235294,
          0.21176470588235294,
          0.21176470588235294,
          0.21176470588235294,
          0.7235294117647059,
          0.45294117647058824,
          0.21176470588235294,
          0.7235294117647059,
          0.9647058823529412,
          0.8705882352941177,
          0.21176470588235294,
          0.7235294117647059,
          0.7235294117647059,
          0.5529411764705883,
          0.7235294117647059,
          0.5529411764705883,
          0.5529411764705883,
          0.45294117647058824,
          0.21176470588235294,
          0.21176470588235294,
          0.21176470588235294,
          0.7235294117647059,
          0.21176470588235294,
          0.9058823529411765,
          0.7235294117647059,
          0.21176470588235294,
          0.7235294117647059,
          0.5529411764705883,
          0.21176470588235294,
          0.21176470588235294,
          0.7235294117647059,
          0.7235294117647059,
          0.21176470588235294,
          0.21176470588235294,
          0.5529411764705883,
          0.45294117647058824,
          0.21176470588235294,
          0.21176470588235294,
          0.7235294117647059,
          0.21176470588235294,
          0.5529411764705883,
          0.21176470588235294,
          0.45294117647058824
         ],
         "y": [
          0.17647058823529413,
          0.9882352941176471,
          0.7058823529411765,
          0.43529411764705883,
          0.5058823529411764,
          0.18823529411764706,
          0.6470588235294118,
          0.7764705882352941,
          0.21176470588235294,
          0.611764705882353,
          0.6941176470588235,
          0.49411764705882355,
          0.29411764705882354,
          0.16470588235294117,
          0.011764705882352941,
          0.11764705882352941,
          0.047058823529411764,
          0.9176470588235294,
          0.5882352941176471,
          0.4470588235294118,
          0.27058823529411763,
          0.10588235294117647,
          0.35294117647058826,
          0.09411764705882353,
          0.32941176470588235,
          0.4117647058823529,
          0.6235294117647059,
          0.23529411764705882,
          0.8941176470588236,
          0.2,
          0.03529411764705882,
          0.1411764705882353,
          0.058823529411764705,
          0.36470588235294116,
          0.7294117647058823,
          0.4588235294117647,
          0.07058823529411765,
          0.023529411764705882,
          0.4,
          0.08235294117647059,
          0.12941176470588237,
          0.7176470588235294,
          0.9764705882352941,
          0.7529411764705882,
          0.2823529411764706,
          0.3058823529411765,
          0.5411764705882353,
          0.9411764705882353,
          0.2235294117647059,
          0.8,
          0.6,
          0.7647058823529411,
          0.4823529411764706,
          0.24705882352941178,
          0.6823529411764706,
          0.8117647058823529,
          0.5176470588235295,
          0.15294117647058825,
          0.6352941176470588,
          0.38823529411764707,
          0.25882352941176473,
          0.7411764705882353,
          0.47058823529411764,
          0.8823529411764706,
          0.3764705882352941,
          0.5764705882352941,
          0.4235294117647059,
          0.8235294117647058,
          0.3176470588235294,
          0.3411764705882353,
          0.5529411764705883,
          0.8470588235294118,
          0.8705882352941177,
          0.788235294117647,
          0.6588235294117647,
          0.8588235294117647,
          0.5647058823529412,
          0.6705882352941176,
          0.5294117647058824,
          0.9529411764705882,
          0.9058823529411765,
          0.8352941176470589,
          0.9647058823529412,
          0.9294117647058824
         ],
         "z": [
          0.3764705882352941,
          0.9058823529411765,
          0.14705882352941177,
          0.14705882352941177,
          0.2411764705882353,
          0.3764705882352941,
          0.011764705882352941,
          0.041176470588235294,
          0.041176470588235294,
          0.3764705882352941,
          0.2411764705882353,
          0.5588235294117647,
          0.7235294117647059,
          0.14705882352941177,
          0.5588235294117647,
          0.5588235294117647,
          0.7235294117647059,
          0.14705882352941177,
          0.8470588235294118,
          0.7235294117647059,
          0.2411764705882353,
          0.2411764705882353,
          0.5588235294117647,
          0.7235294117647059,
          0.14705882352941177,
          0.9470588235294117,
          0.9058823529411765,
          0.2411764705882353,
          0.3764705882352941,
          0.3764705882352941,
          0.08823529411764706,
          0.5588235294117647,
          0.3764705882352941,
          0.5588235294117647,
          0.9470588235294117,
          0.3764705882352941,
          0.5588235294117647,
          0.08823529411764706,
          0.8,
          0.3764705882352941,
          0.9058823529411765,
          0.9705882352941176,
          0.8470588235294118,
          0.5588235294117647,
          0.5588235294117647,
          0.041176470588235294,
          0.5588235294117647,
          0.3764705882352941,
          0.7235294117647059,
          0.9882352941176471,
          0.5588235294117647,
          0.3764705882352941,
          0.5588235294117647,
          0.14705882352941177,
          0.9058823529411765,
          0.8470588235294118,
          0.7235294117647059,
          0.3764705882352941,
          0.7235294117647059,
          0.7235294117647059,
          0.7235294117647059,
          0.3764705882352941,
          0.2411764705882353,
          0.5588235294117647,
          0.041176470588235294,
          0.5588235294117647,
          0.2411764705882353,
          0.8,
          0.9058823529411765,
          0.3764705882352941,
          0.2411764705882353,
          0.08823529411764706,
          0.5588235294117647,
          0.8470588235294118,
          0.8,
          0.7235294117647059,
          0.5588235294117647,
          0.2411764705882353,
          0.08823529411764706,
          0.9705882352941176,
          0.5588235294117647,
          0.2411764705882353,
          0.5588235294117647,
          0.8470588235294118
         ]
        }
       ],
       "layout": {
        "font": {
         "size": 18
        },
        "legend": {
         "title": {
          "text": "Data"
         },
         "tracegroupgap": 0
        },
        "margin": {
         "t": 60
        },
        "plot_bgcolor": "#F5F5F8",
        "scene": {
         "domain": {
          "x": [
           0,
           1
          ],
          "y": [
           0,
           1
          ]
         },
         "xaxis": {
          "title": {
           "text": "dry"
          }
         },
         "yaxis": {
          "title": {
           "text": "hot"
          }
         },
         "zaxis": {
          "title": {
           "text": "wind"
          }
         }
        },
        "showlegend": false,
        "template": {
         "data": {
          "bar": [
           {
            "error_x": {
             "color": "#2a3f5f"
            },
            "error_y": {
             "color": "#2a3f5f"
            },
            "marker": {
             "line": {
              "color": "#E5ECF6",
              "width": 0.5
             },
             "pattern": {
              "fillmode": "overlay",
              "size": 10,
              "solidity": 0.2
             }
            },
            "type": "bar"
           }
          ],
          "barpolar": [
           {
            "marker": {
             "line": {
              "color": "#E5ECF6",
              "width": 0.5
             },
             "pattern": {
              "fillmode": "overlay",
              "size": 10,
              "solidity": 0.2
             }
            },
            "type": "barpolar"
           }
          ],
          "carpet": [
           {
            "aaxis": {
             "endlinecolor": "#2a3f5f",
             "gridcolor": "white",
             "linecolor": "white",
             "minorgridcolor": "white",
             "startlinecolor": "#2a3f5f"
            },
            "baxis": {
             "endlinecolor": "#2a3f5f",
             "gridcolor": "white",
             "linecolor": "white",
             "minorgridcolor": "white",
             "startlinecolor": "#2a3f5f"
            },
            "type": "carpet"
           }
          ],
          "choropleth": [
           {
            "colorbar": {
             "outlinewidth": 0,
             "ticks": ""
            },
            "type": "choropleth"
           }
          ],
          "contour": [
           {
            "colorbar": {
             "outlinewidth": 0,
             "ticks": ""
            },
            "colorscale": [
             [
              0,
              "#0d0887"
             ],
             [
              0.1111111111111111,
              "#46039f"
             ],
             [
              0.2222222222222222,
              "#7201a8"
             ],
             [
              0.3333333333333333,
              "#9c179e"
             ],
             [
              0.4444444444444444,
              "#bd3786"
             ],
             [
              0.5555555555555556,
              "#d8576b"
             ],
             [
              0.6666666666666666,
              "#ed7953"
             ],
             [
              0.7777777777777778,
              "#fb9f3a"
             ],
             [
              0.8888888888888888,
              "#fdca26"
             ],
             [
              1,
              "#f0f921"
             ]
            ],
            "type": "contour"
           }
          ],
          "contourcarpet": [
           {
            "colorbar": {
             "outlinewidth": 0,
             "ticks": ""
            },
            "type": "contourcarpet"
           }
          ],
          "heatmap": [
           {
            "colorbar": {
             "outlinewidth": 0,
             "ticks": ""
            },
            "colorscale": [
             [
              0,
              "#0d0887"
             ],
             [
              0.1111111111111111,
              "#46039f"
             ],
             [
              0.2222222222222222,
              "#7201a8"
             ],
             [
              0.3333333333333333,
              "#9c179e"
             ],
             [
              0.4444444444444444,
              "#bd3786"
             ],
             [
              0.5555555555555556,
              "#d8576b"
             ],
             [
              0.6666666666666666,
              "#ed7953"
             ],
             [
              0.7777777777777778,
              "#fb9f3a"
             ],
             [
              0.8888888888888888,
              "#fdca26"
             ],
             [
              1,
              "#f0f921"
             ]
            ],
            "type": "heatmap"
           }
          ],
          "heatmapgl": [
           {
            "colorbar": {
             "outlinewidth": 0,
             "ticks": ""
            },
            "colorscale": [
             [
              0,
              "#0d0887"
             ],
             [
              0.1111111111111111,
              "#46039f"
             ],
             [
              0.2222222222222222,
              "#7201a8"
             ],
             [
              0.3333333333333333,
              "#9c179e"
             ],
             [
              0.4444444444444444,
              "#bd3786"
             ],
             [
              0.5555555555555556,
              "#d8576b"
             ],
             [
              0.6666666666666666,
              "#ed7953"
             ],
             [
              0.7777777777777778,
              "#fb9f3a"
             ],
             [
              0.8888888888888888,
              "#fdca26"
             ],
             [
              1,
              "#f0f921"
             ]
            ],
            "type": "heatmapgl"
           }
          ],
          "histogram": [
           {
            "marker": {
             "pattern": {
              "fillmode": "overlay",
              "size": 10,
              "solidity": 0.2
             }
            },
            "type": "histogram"
           }
          ],
          "histogram2d": [
           {
            "colorbar": {
             "outlinewidth": 0,
             "ticks": ""
            },
            "colorscale": [
             [
              0,
              "#0d0887"
             ],
             [
              0.1111111111111111,
              "#46039f"
             ],
             [
              0.2222222222222222,
              "#7201a8"
             ],
             [
              0.3333333333333333,
              "#9c179e"
             ],
             [
              0.4444444444444444,
              "#bd3786"
             ],
             [
              0.5555555555555556,
              "#d8576b"
             ],
             [
              0.6666666666666666,
              "#ed7953"
             ],
             [
              0.7777777777777778,
              "#fb9f3a"
             ],
             [
              0.8888888888888888,
              "#fdca26"
             ],
             [
              1,
              "#f0f921"
             ]
            ],
            "type": "histogram2d"
           }
          ],
          "histogram2dcontour": [
           {
            "colorbar": {
             "outlinewidth": 0,
             "ticks": ""
            },
            "colorscale": [
             [
              0,
              "#0d0887"
             ],
             [
              0.1111111111111111,
              "#46039f"
             ],
             [
              0.2222222222222222,
              "#7201a8"
             ],
             [
              0.3333333333333333,
              "#9c179e"
             ],
             [
              0.4444444444444444,
              "#bd3786"
             ],
             [
              0.5555555555555556,
              "#d8576b"
             ],
             [
              0.6666666666666666,
              "#ed7953"
             ],
             [
              0.7777777777777778,
              "#fb9f3a"
             ],
             [
              0.8888888888888888,
              "#fdca26"
             ],
             [
              1,
              "#f0f921"
             ]
            ],
            "type": "histogram2dcontour"
           }
          ],
          "mesh3d": [
           {
            "colorbar": {
             "outlinewidth": 0,
             "ticks": ""
            },
            "type": "mesh3d"
           }
          ],
          "parcoords": [
           {
            "line": {
             "colorbar": {
              "outlinewidth": 0,
              "ticks": ""
             }
            },
            "type": "parcoords"
           }
          ],
          "pie": [
           {
            "automargin": true,
            "type": "pie"
           }
          ],
          "scatter": [
           {
            "fillpattern": {
             "fillmode": "overlay",
             "size": 10,
             "solidity": 0.2
            },
            "type": "scatter"
           }
          ],
          "scatter3d": [
           {
            "line": {
             "colorbar": {
              "outlinewidth": 0,
              "ticks": ""
             }
            },
            "marker": {
             "colorbar": {
              "outlinewidth": 0,
              "ticks": ""
             }
            },
            "type": "scatter3d"
           }
          ],
          "scattercarpet": [
           {
            "marker": {
             "colorbar": {
              "outlinewidth": 0,
              "ticks": ""
             }
            },
            "type": "scattercarpet"
           }
          ],
          "scattergeo": [
           {
            "marker": {
             "colorbar": {
              "outlinewidth": 0,
              "ticks": ""
             }
            },
            "type": "scattergeo"
           }
          ],
          "scattergl": [
           {
            "marker": {
             "colorbar": {
              "outlinewidth": 0,
              "ticks": ""
             }
            },
            "type": "scattergl"
           }
          ],
          "scattermapbox": [
           {
            "marker": {
             "colorbar": {
              "outlinewidth": 0,
              "ticks": ""
             }
            },
            "type": "scattermapbox"
           }
          ],
          "scatterpolar": [
           {
            "marker": {
             "colorbar": {
              "outlinewidth": 0,
              "ticks": ""
             }
            },
            "type": "scatterpolar"
           }
          ],
          "scatterpolargl": [
           {
            "marker": {
             "colorbar": {
              "outlinewidth": 0,
              "ticks": ""
             }
            },
            "type": "scatterpolargl"
           }
          ],
          "scatterternary": [
           {
            "marker": {
             "colorbar": {
              "outlinewidth": 0,
              "ticks": ""
             }
            },
            "type": "scatterternary"
           }
          ],
          "surface": [
           {
            "colorbar": {
             "outlinewidth": 0,
             "ticks": ""
            },
            "colorscale": [
             [
              0,
              "#0d0887"
             ],
             [
              0.1111111111111111,
              "#46039f"
             ],
             [
              0.2222222222222222,
              "#7201a8"
             ],
             [
              0.3333333333333333,
              "#9c179e"
             ],
             [
              0.4444444444444444,
              "#bd3786"
             ],
             [
              0.5555555555555556,
              "#d8576b"
             ],
             [
              0.6666666666666666,
              "#ed7953"
             ],
             [
              0.7777777777777778,
              "#fb9f3a"
             ],
             [
              0.8888888888888888,
              "#fdca26"
             ],
             [
              1,
              "#f0f921"
             ]
            ],
            "type": "surface"
           }
          ],
          "table": [
           {
            "cells": {
             "fill": {
              "color": "#EBF0F8"
             },
             "line": {
              "color": "white"
             }
            },
            "header": {
             "fill": {
              "color": "#C8D4E3"
             },
             "line": {
              "color": "white"
             }
            },
            "type": "table"
           }
          ]
         },
         "layout": {
          "annotationdefaults": {
           "arrowcolor": "#2a3f5f",
           "arrowhead": 0,
           "arrowwidth": 1
          },
          "autotypenumbers": "strict",
          "coloraxis": {
           "colorbar": {
            "outlinewidth": 0,
            "ticks": ""
           }
          },
          "colorscale": {
           "diverging": [
            [
             0,
             "#8e0152"
            ],
            [
             0.1,
             "#c51b7d"
            ],
            [
             0.2,
             "#de77ae"
            ],
            [
             0.3,
             "#f1b6da"
            ],
            [
             0.4,
             "#fde0ef"
            ],
            [
             0.5,
             "#f7f7f7"
            ],
            [
             0.6,
             "#e6f5d0"
            ],
            [
             0.7,
             "#b8e186"
            ],
            [
             0.8,
             "#7fbc41"
            ],
            [
             0.9,
             "#4d9221"
            ],
            [
             1,
             "#276419"
            ]
           ],
           "sequential": [
            [
             0,
             "#0d0887"
            ],
            [
             0.1111111111111111,
             "#46039f"
            ],
            [
             0.2222222222222222,
             "#7201a8"
            ],
            [
             0.3333333333333333,
             "#9c179e"
            ],
            [
             0.4444444444444444,
             "#bd3786"
            ],
            [
             0.5555555555555556,
             "#d8576b"
            ],
            [
             0.6666666666666666,
             "#ed7953"
            ],
            [
             0.7777777777777778,
             "#fb9f3a"
            ],
            [
             0.8888888888888888,
             "#fdca26"
            ],
            [
             1,
             "#f0f921"
            ]
           ],
           "sequentialminus": [
            [
             0,
             "#0d0887"
            ],
            [
             0.1111111111111111,
             "#46039f"
            ],
            [
             0.2222222222222222,
             "#7201a8"
            ],
            [
             0.3333333333333333,
             "#9c179e"
            ],
            [
             0.4444444444444444,
             "#bd3786"
            ],
            [
             0.5555555555555556,
             "#d8576b"
            ],
            [
             0.6666666666666666,
             "#ed7953"
            ],
            [
             0.7777777777777778,
             "#fb9f3a"
            ],
            [
             0.8888888888888888,
             "#fdca26"
            ],
            [
             1,
             "#f0f921"
            ]
           ]
          },
          "colorway": [
           "#636efa",
           "#EF553B",
           "#00cc96",
           "#ab63fa",
           "#FFA15A",
           "#19d3f3",
           "#FF6692",
           "#B6E880",
           "#FF97FF",
           "#FECB52"
          ],
          "font": {
           "color": "#2a3f5f"
          },
          "geo": {
           "bgcolor": "white",
           "lakecolor": "white",
           "landcolor": "#E5ECF6",
           "showlakes": true,
           "showland": true,
           "subunitcolor": "white"
          },
          "hoverlabel": {
           "align": "left"
          },
          "hovermode": "closest",
          "mapbox": {
           "style": "light"
          },
          "paper_bgcolor": "white",
          "plot_bgcolor": "#E5ECF6",
          "polar": {
           "angularaxis": {
            "gridcolor": "white",
            "linecolor": "white",
            "ticks": ""
           },
           "bgcolor": "#E5ECF6",
           "radialaxis": {
            "gridcolor": "white",
            "linecolor": "white",
            "ticks": ""
           }
          },
          "scene": {
           "xaxis": {
            "backgroundcolor": "#E5ECF6",
            "gridcolor": "white",
            "gridwidth": 2,
            "linecolor": "white",
            "showbackground": true,
            "ticks": "",
            "zerolinecolor": "white"
           },
           "yaxis": {
            "backgroundcolor": "#E5ECF6",
            "gridcolor": "white",
            "gridwidth": 2,
            "linecolor": "white",
            "showbackground": true,
            "ticks": "",
            "zerolinecolor": "white"
           },
           "zaxis": {
            "backgroundcolor": "#E5ECF6",
            "gridcolor": "white",
            "gridwidth": 2,
            "linecolor": "white",
            "showbackground": true,
            "ticks": "",
            "zerolinecolor": "white"
           }
          },
          "shapedefaults": {
           "line": {
            "color": "#2a3f5f"
           }
          },
          "ternary": {
           "aaxis": {
            "gridcolor": "white",
            "linecolor": "white",
            "ticks": ""
           },
           "baxis": {
            "gridcolor": "white",
            "linecolor": "white",
            "ticks": ""
           },
           "bgcolor": "#E5ECF6",
           "caxis": {
            "gridcolor": "white",
            "linecolor": "white",
            "ticks": ""
           }
          },
          "title": {
           "x": 0.05
          },
          "xaxis": {
           "automargin": true,
           "gridcolor": "white",
           "linecolor": "white",
           "ticks": "",
           "title": {
            "standoff": 15
           },
           "zerolinecolor": "white",
           "zerolinewidth": 2
          },
          "yaxis": {
           "automargin": true,
           "gridcolor": "white",
           "linecolor": "white",
           "ticks": "",
           "title": {
            "standoff": 15
           },
           "zerolinecolor": "white",
           "zerolinewidth": 2
          }
         }
        },
        "title": {
         "text": "Data for columns 'dry', 'hot' and 'wind'"
        }
       }
      }
     },
     "metadata": {},
     "output_type": "display_data"
    }
   ],
   "source": [
    "# scatter_3d(df.iloc[:,1:])\n",
    "scatter_3d(df_normalized)"
   ]
  },
  {
   "cell_type": "code",
   "execution_count": 125,
   "metadata": {},
   "outputs": [
    {
     "data": {
      "application/vnd.plotly.v1+json": {
       "config": {
        "plotlyServerURL": "https://plot.ly"
       },
       "data": [
        {
         "hovertemplate": "Data=Real<br>dry=%{x}<br>hot=%{y}<br>wind=%{z}<extra></extra>",
         "legendgroup": "Real",
         "marker": {
          "color": "#000036",
          "size": 5,
          "symbol": "circle"
         },
         "mode": "markers",
         "name": "Real",
         "scene": "scene",
         "showlegend": true,
         "type": "scatter3d",
         "x": [
          0.21176470588235294,
          0.8705882352941177,
          0.9352941176470588,
          0.8411764705882353,
          0.9352941176470588,
          0.7235294117647059,
          0.21176470588235294,
          0.21176470588235294,
          0.5529411764705883,
          0.9647058823529412,
          0.7235294117647059,
          0.21176470588235294,
          0.9058823529411765,
          0.9882352941176471,
          0.5529411764705883,
          0.5529411764705883,
          0.21176470588235294,
          0.9647058823529412,
          0.5529411764705883,
          0.21176470588235294,
          0.7235294117647059,
          0.21176470588235294,
          0.9058823529411765,
          0.8411764705882353,
          0.7235294117647059,
          0.7235294117647059,
          0.21176470588235294,
          0.7235294117647059,
          0.21176470588235294,
          0.21176470588235294,
          0.45294117647058824,
          0.45294117647058824,
          0.21176470588235294,
          0.5529411764705883,
          0.21176470588235294,
          0.21176470588235294,
          0.8705882352941177,
          0.21176470588235294,
          0.7235294117647059,
          0.21176470588235294,
          0.21176470588235294,
          0.21176470588235294,
          0.21176470588235294,
          0.21176470588235294,
          0.21176470588235294,
          0.7235294117647059,
          0.45294117647058824,
          0.21176470588235294,
          0.7235294117647059,
          0.9647058823529412,
          0.8705882352941177,
          0.21176470588235294,
          0.7235294117647059,
          0.7235294117647059,
          0.5529411764705883,
          0.7235294117647059,
          0.5529411764705883,
          0.5529411764705883,
          0.45294117647058824,
          0.21176470588235294,
          0.21176470588235294,
          0.21176470588235294,
          0.7235294117647059,
          0.21176470588235294,
          0.9058823529411765,
          0.7235294117647059,
          0.21176470588235294,
          0.7235294117647059,
          0.5529411764705883,
          0.21176470588235294,
          0.21176470588235294,
          0.7235294117647059,
          0.7235294117647059,
          0.21176470588235294,
          0.21176470588235294,
          0.5529411764705883,
          0.45294117647058824,
          0.21176470588235294,
          0.21176470588235294,
          0.7235294117647059,
          0.21176470588235294,
          0.5529411764705883,
          0.21176470588235294,
          0.45294117647058824
         ],
         "y": [
          0.17647058823529413,
          0.9882352941176471,
          0.7058823529411765,
          0.43529411764705883,
          0.5058823529411764,
          0.18823529411764706,
          0.6470588235294118,
          0.7764705882352941,
          0.21176470588235294,
          0.611764705882353,
          0.6941176470588235,
          0.49411764705882355,
          0.29411764705882354,
          0.16470588235294117,
          0.011764705882352941,
          0.11764705882352941,
          0.047058823529411764,
          0.9176470588235294,
          0.5882352941176471,
          0.4470588235294118,
          0.27058823529411763,
          0.10588235294117647,
          0.35294117647058826,
          0.09411764705882353,
          0.32941176470588235,
          0.4117647058823529,
          0.6235294117647059,
          0.23529411764705882,
          0.8941176470588236,
          0.2,
          0.03529411764705882,
          0.1411764705882353,
          0.058823529411764705,
          0.36470588235294116,
          0.7294117647058823,
          0.4588235294117647,
          0.07058823529411765,
          0.023529411764705882,
          0.4,
          0.08235294117647059,
          0.12941176470588237,
          0.7176470588235294,
          0.9764705882352941,
          0.7529411764705882,
          0.2823529411764706,
          0.3058823529411765,
          0.5411764705882353,
          0.9411764705882353,
          0.2235294117647059,
          0.8,
          0.6,
          0.7647058823529411,
          0.4823529411764706,
          0.24705882352941178,
          0.6823529411764706,
          0.8117647058823529,
          0.5176470588235295,
          0.15294117647058825,
          0.6352941176470588,
          0.38823529411764707,
          0.25882352941176473,
          0.7411764705882353,
          0.47058823529411764,
          0.8823529411764706,
          0.3764705882352941,
          0.5764705882352941,
          0.4235294117647059,
          0.8235294117647058,
          0.3176470588235294,
          0.3411764705882353,
          0.5529411764705883,
          0.8470588235294118,
          0.8705882352941177,
          0.788235294117647,
          0.6588235294117647,
          0.8588235294117647,
          0.5647058823529412,
          0.6705882352941176,
          0.5294117647058824,
          0.9529411764705882,
          0.9058823529411765,
          0.8352941176470589,
          0.9647058823529412,
          0.9294117647058824
         ],
         "z": [
          0.3764705882352941,
          0.9058823529411765,
          0.14705882352941177,
          0.14705882352941177,
          0.2411764705882353,
          0.3764705882352941,
          0.011764705882352941,
          0.041176470588235294,
          0.041176470588235294,
          0.3764705882352941,
          0.2411764705882353,
          0.5588235294117647,
          0.7235294117647059,
          0.14705882352941177,
          0.5588235294117647,
          0.5588235294117647,
          0.7235294117647059,
          0.14705882352941177,
          0.8470588235294118,
          0.7235294117647059,
          0.2411764705882353,
          0.2411764705882353,
          0.5588235294117647,
          0.7235294117647059,
          0.14705882352941177,
          0.9470588235294117,
          0.9058823529411765,
          0.2411764705882353,
          0.3764705882352941,
          0.3764705882352941,
          0.08823529411764706,
          0.5588235294117647,
          0.3764705882352941,
          0.5588235294117647,
          0.9470588235294117,
          0.3764705882352941,
          0.5588235294117647,
          0.08823529411764706,
          0.8,
          0.3764705882352941,
          0.9058823529411765,
          0.9705882352941176,
          0.8470588235294118,
          0.5588235294117647,
          0.5588235294117647,
          0.041176470588235294,
          0.5588235294117647,
          0.3764705882352941,
          0.7235294117647059,
          0.9882352941176471,
          0.5588235294117647,
          0.3764705882352941,
          0.5588235294117647,
          0.14705882352941177,
          0.9058823529411765,
          0.8470588235294118,
          0.7235294117647059,
          0.3764705882352941,
          0.7235294117647059,
          0.7235294117647059,
          0.7235294117647059,
          0.3764705882352941,
          0.2411764705882353,
          0.5588235294117647,
          0.041176470588235294,
          0.5588235294117647,
          0.2411764705882353,
          0.8,
          0.9058823529411765,
          0.3764705882352941,
          0.2411764705882353,
          0.08823529411764706,
          0.5588235294117647,
          0.8470588235294118,
          0.8,
          0.7235294117647059,
          0.5588235294117647,
          0.2411764705882353,
          0.08823529411764706,
          0.9705882352941176,
          0.5588235294117647,
          0.2411764705882353,
          0.5588235294117647,
          0.8470588235294118
         ]
        },
        {
         "hovertemplate": "Data=Synthetic<br>dry=%{x}<br>hot=%{y}<br>wind=%{z}<extra></extra>",
         "legendgroup": "Synthetic",
         "marker": {
          "color": "#01E0C9",
          "size": 5,
          "symbol": "diamond"
         },
         "mode": "markers",
         "name": "Synthetic",
         "scene": "scene",
         "showlegend": true,
         "type": "scatter3d",
         "x": [
          0.8593923612765489,
          0.7758427401358727,
          0.4053708209487717,
          0.22948095345997022,
          1.0995957255957756,
          0.698083408481848,
          0.9720203863027639,
          0.7787513543200844,
          0.7943257840058586,
          0.01643650955414811,
          0.7053753112330575,
          0.7783629585935261,
          -0.00958409772670736,
          0.4314790619928891,
          0.45839134133624837,
          0.8472276005694404,
          0.36514932387412613,
          0.0938812942324861,
          0.23104241784328952,
          0.8050670084047508,
          0.24317512347042847,
          0.11920696979889206,
          0.19026155291575916,
          0.12268203016101431,
          0.22675022483728413,
          0.6153852675216277,
          1.0523941664512722,
          0.5922672934513841,
          0.7673055696744374,
          0.7197430477023745,
          0.3046913902882319,
          0.24242123731716186,
          0.23463166837817384,
          0.3139818736259427,
          0.7900673668552667,
          0.6581273504242807,
          0.8517627218791428,
          0.09553755110313983,
          0.536990170468561,
          0.8251712622819088,
          0.1631682731743869,
          0.2045277520134745,
          0.1752939902389756,
          0.5614445615705737,
          0.7236600061205594,
          0.8407573918838438,
          0.7103561635062983,
          0.7709085592287612,
          0.485035799657725,
          0.7590804292200186,
          0.39842255218544786,
          0.4835652331681965,
          0.018261655007317253,
          0.74096456908159,
          0.3932913492847662,
          0.8135892137397314,
          0.20351676893050918,
          0.3637079513227817,
          0.6696485437444304,
          0.4376615581748737,
          0.9227461201571454,
          0.36146819700879024,
          0.7033228562249036,
          0.23482278457098632,
          0.15705272476972054,
          0.6774043627428685,
          0.11062930460367117,
          0.8458057856674319,
          0.6956514914854396,
          0.8278229525676076,
          0.29295882631448267,
          0.5093830149060388,
          0.8921628556883678,
          0.7357393923796417,
          0.13079580202734398,
          0.4816639546742006,
          0.32452285865375996,
          0.49624970268422713,
          0.2546395473836378,
          0.8725176001906869,
          0.6030877328550963,
          0.8784468550086266,
          0.6976284697592448,
          0.2825098003903087
         ],
         "y": [
          0.7191337731330991,
          0.12751763155245024,
          0.20802461996626964,
          0.5555244255256703,
          0.44143356104602993,
          0.6698718103308046,
          0.5594334420692076,
          0.29225910130982197,
          0.38051048788066794,
          0.6384489187692307,
          0.8506922116562499,
          0.6084934171611,
          0.6504592038283783,
          0.8370922826179865,
          0.7874079882584832,
          1.10799462788692,
          0.31480611953600374,
          0.08208659887238617,
          0.5244920736374564,
          0.3556787454530126,
          0.08436646338473856,
          0.5214813552532793,
          1.0217106158459397,
          0.981550367878242,
          0.6703119182020774,
          0.2387734838220341,
          0.6292709468112203,
          0.6589544971679684,
          0.146357708698859,
          0.6537709530250635,
          0.5583205207417525,
          0.04249548735877003,
          0.9799016387460565,
          0.9490303582700613,
          1.1121783679512733,
          0.642294558882815,
          0.720524758211638,
          0.4027760984724549,
          0.3904685273784315,
          0.6314527686706795,
          -0.040426455423618377,
          0.5323690914306439,
          0.875625516590347,
          0.9666452386138762,
          0.8609762340048744,
          0.6510630900429123,
          0.9953703679399735,
          0.898182553768801,
          0.5349562515335896,
          0.28293873753821247,
          0.9918732537807647,
          0.2668857690012189,
          0.5825976337286735,
          0.41986572197519423,
          0.6657131857655355,
          0.9983312179438872,
          0.4004780492731163,
          0.38743875282073903,
          0.7202859504818901,
          0.17208956632597897,
          0.1365094955300065,
          0.8571487937001119,
          0.10265522222149193,
          0.43763940283603103,
          0.19081349489926624,
          0.8514329848154806,
          0.3319636254043364,
          0.06445685704677752,
          0.9047578590029087,
          0.4564756501400599,
          0.38497355945714035,
          0.46735363851317696,
          0.8721280409742873,
          0.4856113672553167,
          0.3168653855742561,
          0.29661771074657123,
          0.1399704242287659,
          0.8777367601570453,
          0.20397380552850777,
          0.27459882342292435,
          0.922224171943456,
          0.03255745413613651,
          0.24196225054670256,
          0.7181824484911326
         ],
         "z": [
          0.5508119421167107,
          0.2671535966219527,
          0.40498366075101366,
          0.22538100167023215,
          -0.094885071738573,
          0.5586293127964757,
          0.055147565714122285,
          0.3518463805632439,
          0.5252177673024593,
          0.4174374634530533,
          0.21243563276458843,
          0.9683083533765996,
          0.4087284135720286,
          0.9494987562610321,
          0.5783942251920667,
          0.5584618625898684,
          0.40641200803061306,
          0.16785707495672864,
          0.960478475972155,
          0.35935178963514186,
          0.31438819709254756,
          0.8149860904492927,
          -0.021254477489044066,
          0.2848964369127368,
          0.0036068097060871127,
          0.1043238640057015,
          0.33706825966050386,
          0.15483227829109436,
          0.12608151730000164,
          0.2596899067688194,
          -0.09532023402006033,
          0.46341347117415027,
          0.42277858976993793,
          0.1505584957496407,
          0.1701854097310343,
          0.05030938544803113,
          0.7110209808338355,
          0.8527110963830169,
          0.40357589563398955,
          1.0031284333137827,
          0.21704753692980733,
          0.2792320675194382,
          0.606347162787814,
          0.7825795671165352,
          0.7291554059318677,
          0.7877369510730938,
          0.26331642139587097,
          0.10368040411329464,
          0.2713680215705084,
          0.7481599704897884,
          0.8542646513406356,
          0.18779119546945958,
          0.452604089556544,
          0.6490174235494142,
          0.7708286134835283,
          0.5120280387560769,
          0.985601532289672,
          0.8048265038797257,
          0.4987658575024488,
          0.687905271710834,
          0.043906758705716406,
          0.16298095869800566,
          0.23015114585671412,
          0.6648548273098552,
          0.5120699105535972,
          0.7562409191303043,
          0.04045074199582382,
          0.2979091742454911,
          0.4994168526452931,
          0.24788981394631873,
          0.291904239365557,
          0.2738600215364511,
          0.8347694286235295,
          0.563616461028774,
          0.8124642041079885,
          0.0696689282438215,
          -0.12017823482815196,
          0.8121092821360648,
          0.5122979925512455,
          0.5053846161179704,
          0.9540901778651775,
          0.58623277533009,
          0.1473664827669625,
          0.6475236153442386
         ]
        }
       ],
       "layout": {
        "font": {
         "size": 18
        },
        "legend": {
         "title": {
          "text": "Data"
         },
         "tracegroupgap": 0
        },
        "margin": {
         "t": 60
        },
        "plot_bgcolor": "#F5F5F8",
        "scene": {
         "domain": {
          "x": [
           0,
           1
          ],
          "y": [
           0,
           1
          ]
         },
         "xaxis": {
          "title": {
           "text": "dry"
          }
         },
         "yaxis": {
          "title": {
           "text": "hot"
          }
         },
         "zaxis": {
          "title": {
           "text": "wind"
          }
         }
        },
        "showlegend": true,
        "template": {
         "data": {
          "bar": [
           {
            "error_x": {
             "color": "#2a3f5f"
            },
            "error_y": {
             "color": "#2a3f5f"
            },
            "marker": {
             "line": {
              "color": "#E5ECF6",
              "width": 0.5
             },
             "pattern": {
              "fillmode": "overlay",
              "size": 10,
              "solidity": 0.2
             }
            },
            "type": "bar"
           }
          ],
          "barpolar": [
           {
            "marker": {
             "line": {
              "color": "#E5ECF6",
              "width": 0.5
             },
             "pattern": {
              "fillmode": "overlay",
              "size": 10,
              "solidity": 0.2
             }
            },
            "type": "barpolar"
           }
          ],
          "carpet": [
           {
            "aaxis": {
             "endlinecolor": "#2a3f5f",
             "gridcolor": "white",
             "linecolor": "white",
             "minorgridcolor": "white",
             "startlinecolor": "#2a3f5f"
            },
            "baxis": {
             "endlinecolor": "#2a3f5f",
             "gridcolor": "white",
             "linecolor": "white",
             "minorgridcolor": "white",
             "startlinecolor": "#2a3f5f"
            },
            "type": "carpet"
           }
          ],
          "choropleth": [
           {
            "colorbar": {
             "outlinewidth": 0,
             "ticks": ""
            },
            "type": "choropleth"
           }
          ],
          "contour": [
           {
            "colorbar": {
             "outlinewidth": 0,
             "ticks": ""
            },
            "colorscale": [
             [
              0,
              "#0d0887"
             ],
             [
              0.1111111111111111,
              "#46039f"
             ],
             [
              0.2222222222222222,
              "#7201a8"
             ],
             [
              0.3333333333333333,
              "#9c179e"
             ],
             [
              0.4444444444444444,
              "#bd3786"
             ],
             [
              0.5555555555555556,
              "#d8576b"
             ],
             [
              0.6666666666666666,
              "#ed7953"
             ],
             [
              0.7777777777777778,
              "#fb9f3a"
             ],
             [
              0.8888888888888888,
              "#fdca26"
             ],
             [
              1,
              "#f0f921"
             ]
            ],
            "type": "contour"
           }
          ],
          "contourcarpet": [
           {
            "colorbar": {
             "outlinewidth": 0,
             "ticks": ""
            },
            "type": "contourcarpet"
           }
          ],
          "heatmap": [
           {
            "colorbar": {
             "outlinewidth": 0,
             "ticks": ""
            },
            "colorscale": [
             [
              0,
              "#0d0887"
             ],
             [
              0.1111111111111111,
              "#46039f"
             ],
             [
              0.2222222222222222,
              "#7201a8"
             ],
             [
              0.3333333333333333,
              "#9c179e"
             ],
             [
              0.4444444444444444,
              "#bd3786"
             ],
             [
              0.5555555555555556,
              "#d8576b"
             ],
             [
              0.6666666666666666,
              "#ed7953"
             ],
             [
              0.7777777777777778,
              "#fb9f3a"
             ],
             [
              0.8888888888888888,
              "#fdca26"
             ],
             [
              1,
              "#f0f921"
             ]
            ],
            "type": "heatmap"
           }
          ],
          "heatmapgl": [
           {
            "colorbar": {
             "outlinewidth": 0,
             "ticks": ""
            },
            "colorscale": [
             [
              0,
              "#0d0887"
             ],
             [
              0.1111111111111111,
              "#46039f"
             ],
             [
              0.2222222222222222,
              "#7201a8"
             ],
             [
              0.3333333333333333,
              "#9c179e"
             ],
             [
              0.4444444444444444,
              "#bd3786"
             ],
             [
              0.5555555555555556,
              "#d8576b"
             ],
             [
              0.6666666666666666,
              "#ed7953"
             ],
             [
              0.7777777777777778,
              "#fb9f3a"
             ],
             [
              0.8888888888888888,
              "#fdca26"
             ],
             [
              1,
              "#f0f921"
             ]
            ],
            "type": "heatmapgl"
           }
          ],
          "histogram": [
           {
            "marker": {
             "pattern": {
              "fillmode": "overlay",
              "size": 10,
              "solidity": 0.2
             }
            },
            "type": "histogram"
           }
          ],
          "histogram2d": [
           {
            "colorbar": {
             "outlinewidth": 0,
             "ticks": ""
            },
            "colorscale": [
             [
              0,
              "#0d0887"
             ],
             [
              0.1111111111111111,
              "#46039f"
             ],
             [
              0.2222222222222222,
              "#7201a8"
             ],
             [
              0.3333333333333333,
              "#9c179e"
             ],
             [
              0.4444444444444444,
              "#bd3786"
             ],
             [
              0.5555555555555556,
              "#d8576b"
             ],
             [
              0.6666666666666666,
              "#ed7953"
             ],
             [
              0.7777777777777778,
              "#fb9f3a"
             ],
             [
              0.8888888888888888,
              "#fdca26"
             ],
             [
              1,
              "#f0f921"
             ]
            ],
            "type": "histogram2d"
           }
          ],
          "histogram2dcontour": [
           {
            "colorbar": {
             "outlinewidth": 0,
             "ticks": ""
            },
            "colorscale": [
             [
              0,
              "#0d0887"
             ],
             [
              0.1111111111111111,
              "#46039f"
             ],
             [
              0.2222222222222222,
              "#7201a8"
             ],
             [
              0.3333333333333333,
              "#9c179e"
             ],
             [
              0.4444444444444444,
              "#bd3786"
             ],
             [
              0.5555555555555556,
              "#d8576b"
             ],
             [
              0.6666666666666666,
              "#ed7953"
             ],
             [
              0.7777777777777778,
              "#fb9f3a"
             ],
             [
              0.8888888888888888,
              "#fdca26"
             ],
             [
              1,
              "#f0f921"
             ]
            ],
            "type": "histogram2dcontour"
           }
          ],
          "mesh3d": [
           {
            "colorbar": {
             "outlinewidth": 0,
             "ticks": ""
            },
            "type": "mesh3d"
           }
          ],
          "parcoords": [
           {
            "line": {
             "colorbar": {
              "outlinewidth": 0,
              "ticks": ""
             }
            },
            "type": "parcoords"
           }
          ],
          "pie": [
           {
            "automargin": true,
            "type": "pie"
           }
          ],
          "scatter": [
           {
            "fillpattern": {
             "fillmode": "overlay",
             "size": 10,
             "solidity": 0.2
            },
            "type": "scatter"
           }
          ],
          "scatter3d": [
           {
            "line": {
             "colorbar": {
              "outlinewidth": 0,
              "ticks": ""
             }
            },
            "marker": {
             "colorbar": {
              "outlinewidth": 0,
              "ticks": ""
             }
            },
            "type": "scatter3d"
           }
          ],
          "scattercarpet": [
           {
            "marker": {
             "colorbar": {
              "outlinewidth": 0,
              "ticks": ""
             }
            },
            "type": "scattercarpet"
           }
          ],
          "scattergeo": [
           {
            "marker": {
             "colorbar": {
              "outlinewidth": 0,
              "ticks": ""
             }
            },
            "type": "scattergeo"
           }
          ],
          "scattergl": [
           {
            "marker": {
             "colorbar": {
              "outlinewidth": 0,
              "ticks": ""
             }
            },
            "type": "scattergl"
           }
          ],
          "scattermapbox": [
           {
            "marker": {
             "colorbar": {
              "outlinewidth": 0,
              "ticks": ""
             }
            },
            "type": "scattermapbox"
           }
          ],
          "scatterpolar": [
           {
            "marker": {
             "colorbar": {
              "outlinewidth": 0,
              "ticks": ""
             }
            },
            "type": "scatterpolar"
           }
          ],
          "scatterpolargl": [
           {
            "marker": {
             "colorbar": {
              "outlinewidth": 0,
              "ticks": ""
             }
            },
            "type": "scatterpolargl"
           }
          ],
          "scatterternary": [
           {
            "marker": {
             "colorbar": {
              "outlinewidth": 0,
              "ticks": ""
             }
            },
            "type": "scatterternary"
           }
          ],
          "surface": [
           {
            "colorbar": {
             "outlinewidth": 0,
             "ticks": ""
            },
            "colorscale": [
             [
              0,
              "#0d0887"
             ],
             [
              0.1111111111111111,
              "#46039f"
             ],
             [
              0.2222222222222222,
              "#7201a8"
             ],
             [
              0.3333333333333333,
              "#9c179e"
             ],
             [
              0.4444444444444444,
              "#bd3786"
             ],
             [
              0.5555555555555556,
              "#d8576b"
             ],
             [
              0.6666666666666666,
              "#ed7953"
             ],
             [
              0.7777777777777778,
              "#fb9f3a"
             ],
             [
              0.8888888888888888,
              "#fdca26"
             ],
             [
              1,
              "#f0f921"
             ]
            ],
            "type": "surface"
           }
          ],
          "table": [
           {
            "cells": {
             "fill": {
              "color": "#EBF0F8"
             },
             "line": {
              "color": "white"
             }
            },
            "header": {
             "fill": {
              "color": "#C8D4E3"
             },
             "line": {
              "color": "white"
             }
            },
            "type": "table"
           }
          ]
         },
         "layout": {
          "annotationdefaults": {
           "arrowcolor": "#2a3f5f",
           "arrowhead": 0,
           "arrowwidth": 1
          },
          "autotypenumbers": "strict",
          "coloraxis": {
           "colorbar": {
            "outlinewidth": 0,
            "ticks": ""
           }
          },
          "colorscale": {
           "diverging": [
            [
             0,
             "#8e0152"
            ],
            [
             0.1,
             "#c51b7d"
            ],
            [
             0.2,
             "#de77ae"
            ],
            [
             0.3,
             "#f1b6da"
            ],
            [
             0.4,
             "#fde0ef"
            ],
            [
             0.5,
             "#f7f7f7"
            ],
            [
             0.6,
             "#e6f5d0"
            ],
            [
             0.7,
             "#b8e186"
            ],
            [
             0.8,
             "#7fbc41"
            ],
            [
             0.9,
             "#4d9221"
            ],
            [
             1,
             "#276419"
            ]
           ],
           "sequential": [
            [
             0,
             "#0d0887"
            ],
            [
             0.1111111111111111,
             "#46039f"
            ],
            [
             0.2222222222222222,
             "#7201a8"
            ],
            [
             0.3333333333333333,
             "#9c179e"
            ],
            [
             0.4444444444444444,
             "#bd3786"
            ],
            [
             0.5555555555555556,
             "#d8576b"
            ],
            [
             0.6666666666666666,
             "#ed7953"
            ],
            [
             0.7777777777777778,
             "#fb9f3a"
            ],
            [
             0.8888888888888888,
             "#fdca26"
            ],
            [
             1,
             "#f0f921"
            ]
           ],
           "sequentialminus": [
            [
             0,
             "#0d0887"
            ],
            [
             0.1111111111111111,
             "#46039f"
            ],
            [
             0.2222222222222222,
             "#7201a8"
            ],
            [
             0.3333333333333333,
             "#9c179e"
            ],
            [
             0.4444444444444444,
             "#bd3786"
            ],
            [
             0.5555555555555556,
             "#d8576b"
            ],
            [
             0.6666666666666666,
             "#ed7953"
            ],
            [
             0.7777777777777778,
             "#fb9f3a"
            ],
            [
             0.8888888888888888,
             "#fdca26"
            ],
            [
             1,
             "#f0f921"
            ]
           ]
          },
          "colorway": [
           "#636efa",
           "#EF553B",
           "#00cc96",
           "#ab63fa",
           "#FFA15A",
           "#19d3f3",
           "#FF6692",
           "#B6E880",
           "#FF97FF",
           "#FECB52"
          ],
          "font": {
           "color": "#2a3f5f"
          },
          "geo": {
           "bgcolor": "white",
           "lakecolor": "white",
           "landcolor": "#E5ECF6",
           "showlakes": true,
           "showland": true,
           "subunitcolor": "white"
          },
          "hoverlabel": {
           "align": "left"
          },
          "hovermode": "closest",
          "mapbox": {
           "style": "light"
          },
          "paper_bgcolor": "white",
          "plot_bgcolor": "#E5ECF6",
          "polar": {
           "angularaxis": {
            "gridcolor": "white",
            "linecolor": "white",
            "ticks": ""
           },
           "bgcolor": "#E5ECF6",
           "radialaxis": {
            "gridcolor": "white",
            "linecolor": "white",
            "ticks": ""
           }
          },
          "scene": {
           "xaxis": {
            "backgroundcolor": "#E5ECF6",
            "gridcolor": "white",
            "gridwidth": 2,
            "linecolor": "white",
            "showbackground": true,
            "ticks": "",
            "zerolinecolor": "white"
           },
           "yaxis": {
            "backgroundcolor": "#E5ECF6",
            "gridcolor": "white",
            "gridwidth": 2,
            "linecolor": "white",
            "showbackground": true,
            "ticks": "",
            "zerolinecolor": "white"
           },
           "zaxis": {
            "backgroundcolor": "#E5ECF6",
            "gridcolor": "white",
            "gridwidth": 2,
            "linecolor": "white",
            "showbackground": true,
            "ticks": "",
            "zerolinecolor": "white"
           }
          },
          "shapedefaults": {
           "line": {
            "color": "#2a3f5f"
           }
          },
          "ternary": {
           "aaxis": {
            "gridcolor": "white",
            "linecolor": "white",
            "ticks": ""
           },
           "baxis": {
            "gridcolor": "white",
            "linecolor": "white",
            "ticks": ""
           },
           "bgcolor": "#E5ECF6",
           "caxis": {
            "gridcolor": "white",
            "linecolor": "white",
            "ticks": ""
           }
          },
          "title": {
           "x": 0.05
          },
          "xaxis": {
           "automargin": true,
           "gridcolor": "white",
           "linecolor": "white",
           "ticks": "",
           "title": {
            "standoff": 15
           },
           "zerolinecolor": "white",
           "zerolinewidth": 2
          },
          "yaxis": {
           "automargin": true,
           "gridcolor": "white",
           "linecolor": "white",
           "ticks": "",
           "title": {
            "standoff": 15
           },
           "zerolinecolor": "white",
           "zerolinewidth": 2
          }
         }
        },
        "title": {
         "text": "Real vs. Synthetic Data for columns 'dry', 'hot' and 'wind'"
        }
       }
      }
     },
     "metadata": {},
     "output_type": "display_data"
    }
   ],
   "source": [
    "\n",
    "compare_3d(df_normalized, synthetic_data)"
   ]
  }
 ],
 "metadata": {
  "kernelspec": {
   "display_name": ".venv",
   "language": "python",
   "name": "python3"
  },
  "language_info": {
   "codemirror_mode": {
    "name": "ipython",
    "version": 3
   },
   "file_extension": ".py",
   "mimetype": "text/x-python",
   "name": "python",
   "nbconvert_exporter": "python",
   "pygments_lexer": "ipython3",
   "version": "3.10.11"
  }
 },
 "nbformat": 4,
 "nbformat_minor": 2
}
